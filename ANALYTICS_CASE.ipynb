{
 "cells": [
  {
   "cell_type": "markdown",
   "id": "4b1a4593-6b78-4a9d-a54f-d7ab19bc6582",
   "metadata": {},
   "source": [
    "# Case do Paraná Banco (PB)\n",
    "\n",
    "## Contexto: Crédito Consignado\n",
    "\n",
    "### Objetivo: Recomendação para maximizar a receita\n",
    "\n",
    "* **Descrição do problema**: Quando o cliente morre, surge uma dívida que implica em prejuízo financeiro para o banco. Baseado nisso, como desenvolver uma estratégia para maximizar o ganho?"
   ]
  },
  {
   "cell_type": "code",
   "execution_count": 1,
   "id": "0edfa69d-6695-4ad8-b985-a2a89ff2c7fb",
   "metadata": {},
   "outputs": [],
   "source": [
    "#Bibliotecas\n",
    "import pandas as pd\n",
    "import numpy as np\n",
    "from scipy import stats\n",
    "##Eliminar os warnings\n",
    "import warnings\n",
    "warnings.filterwarnings(\"ignore\")\n",
    "##Ver todas as colunas do data frame\n",
    "pd.set_option('display.max_columns', None)\n",
    "##Ver todas as linhas do data frame\n",
    "pd.set_option('display.max_rows', None)"
   ]
  },
  {
   "cell_type": "code",
   "execution_count": 2,
   "id": "bb247c03-163b-4764-b35d-9d761dc4fce7",
   "metadata": {},
   "outputs": [],
   "source": [
    "#Fórmula do KS\n",
    "##Utilizar o KS para calcular a relação entre óbito e as variáveis quantitativas\n",
    "def calcular_ks_2samp(df, alvo, escore):\n",
    "    bons_escore = df.loc[df[alvo] == 0, escore].rename('bons')\n",
    "    maus_escore = df.loc[df[alvo] == 1, escore].rename('maus')\n",
    "    return stats.ks_2samp(bons_escore, maus_escore).statistic"
   ]
  },
  {
   "cell_type": "markdown",
   "id": "f505fbfa-393d-4859-9368-517039fa2025",
   "metadata": {},
   "source": [
    "# 1 - Visão geral dos dados"
   ]
  },
  {
   "cell_type": "code",
   "execution_count": 3,
   "id": "5bb0e8d1-e431-4ae6-95cc-f9075d74e3bb",
   "metadata": {},
   "outputs": [
    {
     "data": {
      "text/html": [
       "<div>\n",
       "<style scoped>\n",
       "    .dataframe tbody tr th:only-of-type {\n",
       "        vertical-align: middle;\n",
       "    }\n",
       "\n",
       "    .dataframe tbody tr th {\n",
       "        vertical-align: top;\n",
       "    }\n",
       "\n",
       "    .dataframe thead th {\n",
       "        text-align: right;\n",
       "    }\n",
       "</style>\n",
       "<table border=\"1\" class=\"dataframe\">\n",
       "  <thead>\n",
       "    <tr style=\"text-align: right;\">\n",
       "      <th></th>\n",
       "      <th>codigocliente</th>\n",
       "      <th>AnoMesBase</th>\n",
       "      <th>Aposentadoria_idade</th>\n",
       "      <th>Aposentadoria_invalidez</th>\n",
       "      <th>Aposentadoria_tempo_contribuicao</th>\n",
       "      <th>Pensao_morte</th>\n",
       "      <th>Auxilio</th>\n",
       "      <th>Beneficios_assistenciais</th>\n",
       "      <th>Diversos_e_uniao</th>\n",
       "      <th>Obito</th>\n",
       "      <th>IdadeAnos</th>\n",
       "      <th>DataNascimento</th>\n",
       "      <th>Regiao</th>\n",
       "      <th>ClienteEstado</th>\n",
       "      <th>Sexo</th>\n",
       "      <th>EstadoCivil</th>\n",
       "      <th>distinct_operacoes</th>\n",
       "      <th>VlrPrincipal_Inicial</th>\n",
       "      <th>VlrPrincipal_Atual</th>\n",
       "      <th>VlrPreju¡zo</th>\n",
       "      <th>sexo</th>\n",
       "      <th>duration</th>\n",
       "      <th>VlrReceitaJuros</th>\n",
       "      <th>VlrReceitaJuros_74</th>\n",
       "    </tr>\n",
       "  </thead>\n",
       "  <tbody>\n",
       "    <tr>\n",
       "      <th>0</th>\n",
       "      <td>1</td>\n",
       "      <td>202412</td>\n",
       "      <td>1</td>\n",
       "      <td>0</td>\n",
       "      <td>0</td>\n",
       "      <td>0</td>\n",
       "      <td>0</td>\n",
       "      <td>0</td>\n",
       "      <td>0</td>\n",
       "      <td>0</td>\n",
       "      <td>74</td>\n",
       "      <td>1950-09-07T00:00:00.000Z</td>\n",
       "      <td>Sudeste</td>\n",
       "      <td>SP</td>\n",
       "      <td>M</td>\n",
       "      <td>CASADO</td>\n",
       "      <td>2</td>\n",
       "      <td>39675.63</td>\n",
       "      <td>39174.04</td>\n",
       "      <td>0.0</td>\n",
       "      <td>M</td>\n",
       "      <td>73.0</td>\n",
       "      <td>67561.44</td>\n",
       "      <td>4310.82</td>\n",
       "    </tr>\n",
       "    <tr>\n",
       "      <th>1</th>\n",
       "      <td>2</td>\n",
       "      <td>202412</td>\n",
       "      <td>0</td>\n",
       "      <td>0</td>\n",
       "      <td>1</td>\n",
       "      <td>0</td>\n",
       "      <td>0</td>\n",
       "      <td>0</td>\n",
       "      <td>0</td>\n",
       "      <td>0</td>\n",
       "      <td>76</td>\n",
       "      <td>1948-07-13T00:00:00.000Z</td>\n",
       "      <td>Sudeste</td>\n",
       "      <td>SP</td>\n",
       "      <td>M</td>\n",
       "      <td>CASADO</td>\n",
       "      <td>2</td>\n",
       "      <td>2631.99</td>\n",
       "      <td>1889.23</td>\n",
       "      <td>0.0</td>\n",
       "      <td>M</td>\n",
       "      <td>36.0</td>\n",
       "      <td>17265.99</td>\n",
       "      <td>13262.13</td>\n",
       "    </tr>\n",
       "    <tr>\n",
       "      <th>2</th>\n",
       "      <td>3</td>\n",
       "      <td>202412</td>\n",
       "      <td>0</td>\n",
       "      <td>0</td>\n",
       "      <td>1</td>\n",
       "      <td>0</td>\n",
       "      <td>0</td>\n",
       "      <td>0</td>\n",
       "      <td>0</td>\n",
       "      <td>0</td>\n",
       "      <td>77</td>\n",
       "      <td>1947-02-04T00:00:00.000Z</td>\n",
       "      <td>Sudeste</td>\n",
       "      <td>SP</td>\n",
       "      <td>M</td>\n",
       "      <td>CASADO</td>\n",
       "      <td>1</td>\n",
       "      <td>5310.62</td>\n",
       "      <td>4685.68</td>\n",
       "      <td>0.0</td>\n",
       "      <td>M</td>\n",
       "      <td>11.0</td>\n",
       "      <td>6289.04</td>\n",
       "      <td>1390.65</td>\n",
       "    </tr>\n",
       "  </tbody>\n",
       "</table>\n",
       "</div>"
      ],
      "text/plain": [
       "   codigocliente  AnoMesBase  Aposentadoria_idade  Aposentadoria_invalidez  \\\n",
       "0              1      202412                    1                        0   \n",
       "1              2      202412                    0                        0   \n",
       "2              3      202412                    0                        0   \n",
       "\n",
       "   Aposentadoria_tempo_contribuicao  Pensao_morte  Auxilio  \\\n",
       "0                                 0             0        0   \n",
       "1                                 1             0        0   \n",
       "2                                 1             0        0   \n",
       "\n",
       "   Beneficios_assistenciais  Diversos_e_uniao  Obito  IdadeAnos  \\\n",
       "0                         0                 0      0         74   \n",
       "1                         0                 0      0         76   \n",
       "2                         0                 0      0         77   \n",
       "\n",
       "             DataNascimento   Regiao ClienteEstado Sexo EstadoCivil  \\\n",
       "0  1950-09-07T00:00:00.000Z  Sudeste            SP    M      CASADO   \n",
       "1  1948-07-13T00:00:00.000Z  Sudeste            SP    M      CASADO   \n",
       "2  1947-02-04T00:00:00.000Z  Sudeste            SP    M      CASADO   \n",
       "\n",
       "   distinct_operacoes  VlrPrincipal_Inicial  VlrPrincipal_Atual  VlrPreju¡zo  \\\n",
       "0                   2              39675.63            39174.04          0.0   \n",
       "1                   2               2631.99             1889.23          0.0   \n",
       "2                   1               5310.62             4685.68          0.0   \n",
       "\n",
       "  sexo  duration  VlrReceitaJuros  VlrReceitaJuros_74  \n",
       "0    M      73.0         67561.44             4310.82  \n",
       "1    M      36.0         17265.99            13262.13  \n",
       "2    M      11.0          6289.04             1390.65  "
      ]
     },
     "execution_count": 3,
     "metadata": {},
     "output_type": "execute_result"
    }
   ],
   "source": [
    "import chardet\n",
    "\n",
    "#Detectar a codificação do arquivo\n",
    "with open('case_ds.csv', 'rb') as f:\n",
    "    result = chardet.detect(f.read())\n",
    "\n",
    "#Ler o arquivo\n",
    "df = pd.read_csv('case_ds.csv', sep=';', encoding=result['encoding'])\n",
    "#Visualização\n",
    "df.head(3)"
   ]
  },
  {
   "cell_type": "code",
   "execution_count": 4,
   "id": "5ecfb2af-fdee-444d-a6cf-54abc6ed13ff",
   "metadata": {},
   "outputs": [
    {
     "name": "stdout",
     "output_type": "stream",
     "text": [
      "<class 'pandas.core.frame.DataFrame'>\n",
      "RangeIndex: 16849 entries, 0 to 16848\n",
      "Data columns (total 24 columns):\n",
      " #   Column                            Non-Null Count  Dtype  \n",
      "---  ------                            --------------  -----  \n",
      " 0   codigocliente                     16849 non-null  int64  \n",
      " 1   AnoMesBase                        16849 non-null  int64  \n",
      " 2   Aposentadoria_idade               16849 non-null  int64  \n",
      " 3   Aposentadoria_invalidez           16849 non-null  int64  \n",
      " 4   Aposentadoria_tempo_contribuicao  16849 non-null  int64  \n",
      " 5   Pensao_morte                      16849 non-null  int64  \n",
      " 6   Auxilio                           16849 non-null  int64  \n",
      " 7   Beneficios_assistenciais          16849 non-null  int64  \n",
      " 8   Diversos_e_uniao                  16849 non-null  int64  \n",
      " 9   Obito                             16849 non-null  int64  \n",
      " 10  IdadeAnos                         16849 non-null  int64  \n",
      " 11  DataNascimento                    16849 non-null  object \n",
      " 12  Regiao                            16849 non-null  object \n",
      " 13  ClienteEstado                     16849 non-null  object \n",
      " 14  Sexo                              14573 non-null  object \n",
      " 15  EstadoCivil                       16849 non-null  object \n",
      " 16  distinct_operacoes                16849 non-null  int64  \n",
      " 17  VlrPrincipal_Inicial              16849 non-null  float64\n",
      " 18  VlrPrincipal_Atual                16849 non-null  float64\n",
      " 19  VlrPreju¡zo                       16849 non-null  float64\n",
      " 20  sexo                              16849 non-null  object \n",
      " 21  duration                          16843 non-null  float64\n",
      " 22  VlrReceitaJuros                   16849 non-null  float64\n",
      " 23  VlrReceitaJuros_74                16849 non-null  float64\n",
      "dtypes: float64(6), int64(12), object(6)\n",
      "memory usage: 3.1+ MB\n"
     ]
    }
   ],
   "source": [
    "##################################\n",
    "#Características da base\n",
    "##################################\n",
    "df.info() \n",
    "#Total de linhas: 16.849\n",
    "#As variáveis Sexo e duration (quase 100% de preenchimento) não tem 100% de preenchimento\n",
    "#Existem duas variáveis que aparentam ser iguais: Sexo e sexo  "
   ]
  },
  {
   "cell_type": "code",
   "execution_count": 5,
   "id": "66c94f9b-879c-4b38-94f7-5437fb223444",
   "metadata": {},
   "outputs": [
    {
     "data": {
      "text/plain": [
       "16849"
      ]
     },
     "execution_count": 5,
     "metadata": {},
     "output_type": "execute_result"
    }
   ],
   "source": [
    "#Verificar se existe algum código de cliente repetido\n",
    "df['codigocliente'].unique().shape[0] #Cada linha representa um único cliente 16.849 (c)"
   ]
  },
  {
   "cell_type": "markdown",
   "id": "e2c58309-45cd-4a76-84af-df1d67e63871",
   "metadata": {},
   "source": [
    "## Comparativo entre as variáveis Sexo e sexo"
   ]
  },
  {
   "cell_type": "code",
   "execution_count": 6,
   "id": "268e3927-5ccc-4826-9694-a4de898d79ed",
   "metadata": {},
   "outputs": [
    {
     "data": {
      "text/html": [
       "<div>\n",
       "<style scoped>\n",
       "    .dataframe tbody tr th:only-of-type {\n",
       "        vertical-align: middle;\n",
       "    }\n",
       "\n",
       "    .dataframe tbody tr th {\n",
       "        vertical-align: top;\n",
       "    }\n",
       "\n",
       "    .dataframe thead th {\n",
       "        text-align: right;\n",
       "    }\n",
       "</style>\n",
       "<table border=\"1\" class=\"dataframe\">\n",
       "  <thead>\n",
       "    <tr style=\"text-align: right;\">\n",
       "      <th></th>\n",
       "      <th>codigocliente</th>\n",
       "      <th>Sexo</th>\n",
       "      <th>sexo</th>\n",
       "    </tr>\n",
       "  </thead>\n",
       "  <tbody>\n",
       "    <tr>\n",
       "      <th>0</th>\n",
       "      <td>1</td>\n",
       "      <td>M</td>\n",
       "      <td>M</td>\n",
       "    </tr>\n",
       "    <tr>\n",
       "      <th>1</th>\n",
       "      <td>2</td>\n",
       "      <td>M</td>\n",
       "      <td>M</td>\n",
       "    </tr>\n",
       "    <tr>\n",
       "      <th>2</th>\n",
       "      <td>3</td>\n",
       "      <td>M</td>\n",
       "      <td>M</td>\n",
       "    </tr>\n",
       "  </tbody>\n",
       "</table>\n",
       "</div>"
      ],
      "text/plain": [
       "   codigocliente Sexo sexo\n",
       "0              1    M    M\n",
       "1              2    M    M\n",
       "2              3    M    M"
      ]
     },
     "execution_count": 6,
     "metadata": {},
     "output_type": "execute_result"
    }
   ],
   "source": [
    "validacao_sexo = df[['codigocliente', 'Sexo', 'sexo']]\n",
    "#Visualização\n",
    "validacao_sexo.head(3)"
   ]
  },
  {
   "cell_type": "code",
   "execution_count": 7,
   "id": "bf6b4d69-0214-4db1-a219-2f74954576f3",
   "metadata": {},
   "outputs": [
    {
     "data": {
      "text/html": [
       "<div>\n",
       "<style scoped>\n",
       "    .dataframe tbody tr th:only-of-type {\n",
       "        vertical-align: middle;\n",
       "    }\n",
       "\n",
       "    .dataframe tbody tr th {\n",
       "        vertical-align: top;\n",
       "    }\n",
       "\n",
       "    .dataframe thead th {\n",
       "        text-align: right;\n",
       "    }\n",
       "</style>\n",
       "<table border=\"1\" class=\"dataframe\">\n",
       "  <thead>\n",
       "    <tr style=\"text-align: right;\">\n",
       "      <th></th>\n",
       "      <th>codigocliente</th>\n",
       "      <th>Sexo</th>\n",
       "      <th>sexo</th>\n",
       "      <th>flag_validacao</th>\n",
       "    </tr>\n",
       "  </thead>\n",
       "  <tbody>\n",
       "    <tr>\n",
       "      <th>0</th>\n",
       "      <td>1</td>\n",
       "      <td>M</td>\n",
       "      <td>M</td>\n",
       "      <td>1</td>\n",
       "    </tr>\n",
       "    <tr>\n",
       "      <th>1</th>\n",
       "      <td>2</td>\n",
       "      <td>M</td>\n",
       "      <td>M</td>\n",
       "      <td>1</td>\n",
       "    </tr>\n",
       "    <tr>\n",
       "      <th>2</th>\n",
       "      <td>3</td>\n",
       "      <td>M</td>\n",
       "      <td>M</td>\n",
       "      <td>1</td>\n",
       "    </tr>\n",
       "  </tbody>\n",
       "</table>\n",
       "</div>"
      ],
      "text/plain": [
       "   codigocliente Sexo sexo  flag_validacao\n",
       "0              1    M    M               1\n",
       "1              2    M    M               1\n",
       "2              3    M    M               1"
      ]
     },
     "execution_count": 7,
     "metadata": {},
     "output_type": "execute_result"
    }
   ],
   "source": [
    "#Adicionar a variável flag_validacao\n",
    "validacao_sexo['flag_validacao'] = np.where(validacao_sexo['Sexo']  ==  validacao_sexo['sexo'], 1,0)\n",
    "#Visualização\n",
    "validacao_sexo.head(3)"
   ]
  },
  {
   "cell_type": "code",
   "execution_count": 8,
   "id": "030e1383-f2a9-4730-a2a6-602a28567e6a",
   "metadata": {},
   "outputs": [
    {
     "data": {
      "text/plain": [
       "np.int64(14573)"
      ]
     },
     "execution_count": 8,
     "metadata": {},
     "output_type": "execute_result"
    }
   ],
   "source": [
    "##Observações iguais\n",
    "validacao_sexo['flag_validacao'].sum() #14573. As diferenças ocorrem justamente onde não tem preenchimento na variável Sexo."
   ]
  },
  {
   "cell_type": "markdown",
   "id": "b517f4df-ec6b-470a-8420-a781065efaa0",
   "metadata": {},
   "source": [
    "* **Decisão 1**: Considerar a variável **sexo** no lugar da variável **Sexo**."
   ]
  },
  {
   "cell_type": "code",
   "execution_count": 9,
   "id": "cce56874-b76c-4e8a-8dc0-03468586b61f",
   "metadata": {},
   "outputs": [],
   "source": [
    "#Remover a variável Sexo do data frame base\n",
    "df = df.drop('Sexo', axis = 1)"
   ]
  },
  {
   "cell_type": "markdown",
   "id": "368a446c-23cf-46ac-a283-adca34a8c1c3",
   "metadata": {},
   "source": [
    "# 2 - Data Wrangling"
   ]
  },
  {
   "cell_type": "code",
   "execution_count": 10,
   "id": "c81013fe-765a-4de7-bf0d-9d763823d16d",
   "metadata": {},
   "outputs": [],
   "source": [
    "#Casting: Colocar DataNascimento como data\n",
    "df['DataNascimento'] = pd.to_datetime(df.DataNascimento).dt.tz_localize(None)"
   ]
  },
  {
   "cell_type": "code",
   "execution_count": 11,
   "id": "0cd273f7-e90f-495f-b61f-60ce4ca00a5a",
   "metadata": {},
   "outputs": [],
   "source": [
    "#Casting: Colocar AnoMesBase como string\n",
    "df = df.astype({'AnoMesBase': 'string'})"
   ]
  },
  {
   "cell_type": "code",
   "execution_count": 12,
   "id": "f2a3989a-4bc5-418e-9b55-652d4afd890a",
   "metadata": {},
   "outputs": [],
   "source": [
    "#Renomear a variável VlrPreju¡zo para valor_prejuizo\n",
    "df.rename(columns = {'VlrPreju¡zo':'valor_prejuizo'}, inplace = True)"
   ]
  },
  {
   "cell_type": "code",
   "execution_count": 13,
   "id": "909be050-5e0a-45d1-9dfb-dc32903ab73c",
   "metadata": {},
   "outputs": [],
   "source": [
    "#Adicionar a variável lucro\n",
    "df['lucro'] = df['VlrReceitaJuros'] * 0.0016 #lucro representa 0,16% da receita de juros"
   ]
  },
  {
   "cell_type": "markdown",
   "id": "6081a764-2ada-4448-948f-5d193c7111bb",
   "metadata": {},
   "source": [
    "# 3 - Caracterização dos clientes quanto a remuneração recebida"
   ]
  },
  {
   "cell_type": "code",
   "execution_count": 14,
   "id": "99f5ee21-1bc8-4206-bf4c-7063830c7021",
   "metadata": {},
   "outputs": [
    {
     "data": {
      "text/plain": [
       "7361"
      ]
     },
     "execution_count": 14,
     "metadata": {},
     "output_type": "execute_result"
    }
   ],
   "source": [
    "#Idade\n",
    "df.loc[df['Aposentadoria_idade'] == 1].shape[0] #7361"
   ]
  },
  {
   "cell_type": "code",
   "execution_count": 15,
   "id": "92a8b2af-fcb9-4498-bedf-aed2b9b965e4",
   "metadata": {},
   "outputs": [
    {
     "data": {
      "text/plain": [
       "1351"
      ]
     },
     "execution_count": 15,
     "metadata": {},
     "output_type": "execute_result"
    }
   ],
   "source": [
    "#Invalidez\n",
    "df.loc[df['Aposentadoria_invalidez'] == 1].shape[0] #1351"
   ]
  },
  {
   "cell_type": "code",
   "execution_count": 16,
   "id": "b59a56d4-6cd8-4851-932e-eb2c19449d2a",
   "metadata": {},
   "outputs": [
    {
     "data": {
      "text/plain": [
       "4426"
      ]
     },
     "execution_count": 16,
     "metadata": {},
     "output_type": "execute_result"
    }
   ],
   "source": [
    "#Tempo de contribuição\n",
    "df.loc[df['Aposentadoria_tempo_contribuicao'] == 1].shape[0] #4426"
   ]
  },
  {
   "cell_type": "code",
   "execution_count": 17,
   "id": "f6e4ed9b-d7fb-4104-abba-91c5284c4c73",
   "metadata": {},
   "outputs": [
    {
     "data": {
      "text/plain": [
       "5583"
      ]
     },
     "execution_count": 17,
     "metadata": {},
     "output_type": "execute_result"
    }
   ],
   "source": [
    "#Pensão por morte\n",
    "df.loc[df['Pensao_morte'] == 1].shape[0] #5583"
   ]
  },
  {
   "cell_type": "code",
   "execution_count": 18,
   "id": "78a414bb-6eb9-4a00-928d-20093ec62533",
   "metadata": {},
   "outputs": [
    {
     "data": {
      "text/plain": [
       "0"
      ]
     },
     "execution_count": 18,
     "metadata": {},
     "output_type": "execute_result"
    }
   ],
   "source": [
    "#Auxilio\n",
    "df.loc[df['Auxilio'] == 1].shape[0] #0"
   ]
  },
  {
   "cell_type": "code",
   "execution_count": 19,
   "id": "83a2e1e5-6bca-4d65-be6f-38e071a4cb71",
   "metadata": {},
   "outputs": [
    {
     "data": {
      "text/plain": [
       "0"
      ]
     },
     "execution_count": 19,
     "metadata": {},
     "output_type": "execute_result"
    }
   ],
   "source": [
    "#Benefício assistencial\n",
    "df.loc[df['Beneficios_assistenciais'] == 1].shape[0] #0"
   ]
  },
  {
   "cell_type": "code",
   "execution_count": 20,
   "id": "db9ce9e6-2d31-4ef4-b1ff-e343b76ccc86",
   "metadata": {},
   "outputs": [
    {
     "data": {
      "text/plain": [
       "0"
      ]
     },
     "execution_count": 20,
     "metadata": {},
     "output_type": "execute_result"
    }
   ],
   "source": [
    "#Diversos e união\n",
    "df.loc[df['Diversos_e_uniao'] == 1].shape[0] #0"
   ]
  },
  {
   "cell_type": "markdown",
   "id": "7a6f1322-9d02-4ff3-a683-a81e88544a6b",
   "metadata": {},
   "source": [
    "**OBS**: \n",
    "1. Nenhum cliente recebe algum tipo de benefício/auxílio.\n",
    "2. Ao somar individualmente cada grupo, o total ultrapassa o volume de clientes. Portanto, existe intersecção, ou seja, um cliente pode está associado a mais de um grupo."
   ]
  },
  {
   "cell_type": "code",
   "execution_count": 21,
   "id": "50538b7b-a997-42f1-8880-326b181e3169",
   "metadata": {},
   "outputs": [
    {
     "data": {
      "text/plain": [
       "1872"
      ]
     },
     "execution_count": 21,
     "metadata": {},
     "output_type": "execute_result"
    }
   ],
   "source": [
    "#O fato da diferença ser diferente de 0 implica que existe intersecção.\n",
    "(df.loc[df['Aposentadoria_idade'] == 1].shape[0] + df.loc[df['Aposentadoria_invalidez'] == 1].shape[0]+\n",
    "df.loc[df['Aposentadoria_tempo_contribuicao'] == 1].shape[0] + df.loc[df['Pensao_morte'] == 1].shape[0]) - df.shape[0] #Diferença é de 1872 "
   ]
  },
  {
   "cell_type": "markdown",
   "id": "83d418a9-62fd-426e-9f41-e227acecfb82",
   "metadata": {},
   "source": [
    "### Agregação"
   ]
  },
  {
   "cell_type": "code",
   "execution_count": 22,
   "id": "929292bc-0a04-40fb-ac91-291f7149691b",
   "metadata": {},
   "outputs": [],
   "source": [
    "# Lista das colunas binárias referente a caracterização do público\n",
    "colunas_binarias = ['Aposentadoria_idade', 'Aposentadoria_invalidez', 'Aposentadoria_tempo_contribuicao', 'Pensao_morte', 'Auxilio',\n",
    "                   'Beneficios_assistenciais', 'Diversos_e_uniao']\n",
    "\n",
    "# Cria uma nova coluna 'publico_alvo' que combina os nomes das colunas onde o valor é 1\n",
    "df['publico_alvo'] = df[colunas_binarias].apply(lambda row: '-'.join(row.index[row == 1]) if any(row == 1) else 'outro_tipo_cliente', axis=1)"
   ]
  },
  {
   "cell_type": "markdown",
   "id": "91edf3a5-4c4f-4637-ba40-52fc3bd8e465",
   "metadata": {},
   "source": [
    "# 4 - Volumetria por safra"
   ]
  },
  {
   "cell_type": "code",
   "execution_count": 23,
   "id": "7ab8d378-4f76-4e2c-9700-0fbc07eddaf9",
   "metadata": {},
   "outputs": [
    {
     "data": {
      "text/html": [
       "<div>\n",
       "<style scoped>\n",
       "    .dataframe tbody tr th:only-of-type {\n",
       "        vertical-align: middle;\n",
       "    }\n",
       "\n",
       "    .dataframe tbody tr th {\n",
       "        vertical-align: top;\n",
       "    }\n",
       "\n",
       "    .dataframe thead th {\n",
       "        text-align: right;\n",
       "    }\n",
       "</style>\n",
       "<table border=\"1\" class=\"dataframe\">\n",
       "  <thead>\n",
       "    <tr style=\"text-align: right;\">\n",
       "      <th></th>\n",
       "      <th>safra</th>\n",
       "      <th>volumetria</th>\n",
       "    </tr>\n",
       "  </thead>\n",
       "  <tbody>\n",
       "    <tr>\n",
       "      <th>0</th>\n",
       "      <td>202401</td>\n",
       "      <td>59</td>\n",
       "    </tr>\n",
       "    <tr>\n",
       "      <th>1</th>\n",
       "      <td>202402</td>\n",
       "      <td>48</td>\n",
       "    </tr>\n",
       "    <tr>\n",
       "      <th>2</th>\n",
       "      <td>202403</td>\n",
       "      <td>67</td>\n",
       "    </tr>\n",
       "    <tr>\n",
       "      <th>3</th>\n",
       "      <td>202404</td>\n",
       "      <td>72</td>\n",
       "    </tr>\n",
       "    <tr>\n",
       "      <th>4</th>\n",
       "      <td>202405</td>\n",
       "      <td>70</td>\n",
       "    </tr>\n",
       "    <tr>\n",
       "      <th>5</th>\n",
       "      <td>202406</td>\n",
       "      <td>122</td>\n",
       "    </tr>\n",
       "    <tr>\n",
       "      <th>6</th>\n",
       "      <td>202407</td>\n",
       "      <td>94</td>\n",
       "    </tr>\n",
       "    <tr>\n",
       "      <th>7</th>\n",
       "      <td>202408</td>\n",
       "      <td>79</td>\n",
       "    </tr>\n",
       "    <tr>\n",
       "      <th>8</th>\n",
       "      <td>202409</td>\n",
       "      <td>93</td>\n",
       "    </tr>\n",
       "    <tr>\n",
       "      <th>9</th>\n",
       "      <td>202410</td>\n",
       "      <td>72</td>\n",
       "    </tr>\n",
       "    <tr>\n",
       "      <th>10</th>\n",
       "      <td>202411</td>\n",
       "      <td>87</td>\n",
       "    </tr>\n",
       "    <tr>\n",
       "      <th>11</th>\n",
       "      <td>202412</td>\n",
       "      <td>15986</td>\n",
       "    </tr>\n",
       "  </tbody>\n",
       "</table>\n",
       "</div>"
      ],
      "text/plain": [
       "     safra  volumetria\n",
       "0   202401          59\n",
       "1   202402          48\n",
       "2   202403          67\n",
       "3   202404          72\n",
       "4   202405          70\n",
       "5   202406         122\n",
       "6   202407          94\n",
       "7   202408          79\n",
       "8   202409          93\n",
       "9   202410          72\n",
       "10  202411          87\n",
       "11  202412       15986"
      ]
     },
     "execution_count": 23,
     "metadata": {},
     "output_type": "execute_result"
    }
   ],
   "source": [
    "#Volumetria por safra\n",
    "vol_safra = df.groupby('AnoMesBase').size().reset_index(name='volumetria')\n",
    "#Renomeia as colunas\n",
    "vol_safra.columns = ['safra', 'volumetria']\n",
    "vol_safra.head(12) #Os dados estão concentrados em dezembro de 2024 (95% dos casos)"
   ]
  },
  {
   "cell_type": "markdown",
   "id": "17522d6d-dc32-40df-bd22-e735a78f240f",
   "metadata": {},
   "source": [
    "## Casos de óbito"
   ]
  },
  {
   "cell_type": "code",
   "execution_count": 60,
   "id": "afc4f672-29c8-4e51-9a07-c336c9b12a0f",
   "metadata": {},
   "outputs": [
    {
     "data": {
      "text/plain": [
       "984"
      ]
     },
     "execution_count": 60,
     "metadata": {},
     "output_type": "execute_result"
    }
   ],
   "source": [
    "#Casos de óbito\n",
    "df.loc[df.Obito == 1].shape[0] #984"
   ]
  },
  {
   "cell_type": "code",
   "execution_count": 59,
   "id": "33cad9c5-8294-48bb-a3d7-7516d188e18b",
   "metadata": {},
   "outputs": [
    {
     "data": {
      "text/plain": [
       "Obito\n",
       "0    94.16\n",
       "1     5.84\n",
       "Name: proportion, dtype: float64"
      ]
     },
     "execution_count": 59,
     "metadata": {},
     "output_type": "execute_result"
    }
   ],
   "source": [
    "#Taxa de óbito\n",
    "round(100 * df['Obito'].value_counts(True),2) #5.84%"
   ]
  },
  {
   "cell_type": "code",
   "execution_count": 61,
   "id": "3ae060fe-a177-4489-8904-d9b78973551b",
   "metadata": {},
   "outputs": [
    {
     "data": {
      "text/html": [
       "<div>\n",
       "<style scoped>\n",
       "    .dataframe tbody tr th:only-of-type {\n",
       "        vertical-align: middle;\n",
       "    }\n",
       "\n",
       "    .dataframe tbody tr th {\n",
       "        vertical-align: top;\n",
       "    }\n",
       "\n",
       "    .dataframe thead th {\n",
       "        text-align: right;\n",
       "    }\n",
       "</style>\n",
       "<table border=\"1\" class=\"dataframe\">\n",
       "  <thead>\n",
       "    <tr style=\"text-align: right;\">\n",
       "      <th>Obito</th>\n",
       "      <th>0</th>\n",
       "      <th>1</th>\n",
       "    </tr>\n",
       "    <tr>\n",
       "      <th>AnoMesBase</th>\n",
       "      <th></th>\n",
       "      <th></th>\n",
       "    </tr>\n",
       "  </thead>\n",
       "  <tbody>\n",
       "    <tr>\n",
       "      <th>202401</th>\n",
       "      <td>NaN</td>\n",
       "      <td>59.0</td>\n",
       "    </tr>\n",
       "    <tr>\n",
       "      <th>202402</th>\n",
       "      <td>NaN</td>\n",
       "      <td>48.0</td>\n",
       "    </tr>\n",
       "    <tr>\n",
       "      <th>202403</th>\n",
       "      <td>NaN</td>\n",
       "      <td>67.0</td>\n",
       "    </tr>\n",
       "    <tr>\n",
       "      <th>202404</th>\n",
       "      <td>NaN</td>\n",
       "      <td>72.0</td>\n",
       "    </tr>\n",
       "    <tr>\n",
       "      <th>202405</th>\n",
       "      <td>NaN</td>\n",
       "      <td>70.0</td>\n",
       "    </tr>\n",
       "    <tr>\n",
       "      <th>202406</th>\n",
       "      <td>NaN</td>\n",
       "      <td>122.0</td>\n",
       "    </tr>\n",
       "    <tr>\n",
       "      <th>202407</th>\n",
       "      <td>NaN</td>\n",
       "      <td>94.0</td>\n",
       "    </tr>\n",
       "    <tr>\n",
       "      <th>202408</th>\n",
       "      <td>NaN</td>\n",
       "      <td>79.0</td>\n",
       "    </tr>\n",
       "    <tr>\n",
       "      <th>202409</th>\n",
       "      <td>NaN</td>\n",
       "      <td>93.0</td>\n",
       "    </tr>\n",
       "    <tr>\n",
       "      <th>202410</th>\n",
       "      <td>NaN</td>\n",
       "      <td>72.0</td>\n",
       "    </tr>\n",
       "    <tr>\n",
       "      <th>202411</th>\n",
       "      <td>NaN</td>\n",
       "      <td>87.0</td>\n",
       "    </tr>\n",
       "    <tr>\n",
       "      <th>202412</th>\n",
       "      <td>15865.0</td>\n",
       "      <td>121.0</td>\n",
       "    </tr>\n",
       "  </tbody>\n",
       "</table>\n",
       "</div>"
      ],
      "text/plain": [
       "Obito             0      1\n",
       "AnoMesBase                \n",
       "202401          NaN   59.0\n",
       "202402          NaN   48.0\n",
       "202403          NaN   67.0\n",
       "202404          NaN   72.0\n",
       "202405          NaN   70.0\n",
       "202406          NaN  122.0\n",
       "202407          NaN   94.0\n",
       "202408          NaN   79.0\n",
       "202409          NaN   93.0\n",
       "202410          NaN   72.0\n",
       "202411          NaN   87.0\n",
       "202412      15865.0  121.0"
      ]
     },
     "execution_count": 61,
     "metadata": {},
     "output_type": "execute_result"
    }
   ],
   "source": [
    "#Número de óbitos por mês\n",
    "volumetria_nobito_obito_safra = df.groupby('AnoMesBase')['Obito'].value_counts().unstack()\n",
    "#Visualização\n",
    "volumetria_nobito_obito_safra"
   ]
  },
  {
   "cell_type": "markdown",
   "id": "ff477536-e21b-4f2d-afa9-bbeee5b058ce",
   "metadata": {},
   "source": [
    "# 5 - Caracterização dos clientes"
   ]
  },
  {
   "cell_type": "markdown",
   "id": "fe7c6f6f-84b0-4a2b-bded-99f3f0842d07",
   "metadata": {},
   "source": [
    "## Distribuição por estado"
   ]
  },
  {
   "cell_type": "code",
   "execution_count": 24,
   "id": "e10e0f7e-e6e4-4bf7-89b5-9fc85c1413b8",
   "metadata": {},
   "outputs": [
    {
     "data": {
      "text/html": [
       "<div>\n",
       "<style scoped>\n",
       "    .dataframe tbody tr th:only-of-type {\n",
       "        vertical-align: middle;\n",
       "    }\n",
       "\n",
       "    .dataframe tbody tr th {\n",
       "        vertical-align: top;\n",
       "    }\n",
       "\n",
       "    .dataframe thead th {\n",
       "        text-align: right;\n",
       "    }\n",
       "</style>\n",
       "<table border=\"1\" class=\"dataframe\">\n",
       "  <thead>\n",
       "    <tr style=\"text-align: right;\">\n",
       "      <th></th>\n",
       "      <th>estado</th>\n",
       "      <th>percentual</th>\n",
       "    </tr>\n",
       "  </thead>\n",
       "  <tbody>\n",
       "    <tr>\n",
       "      <th>0</th>\n",
       "      <td>PR</td>\n",
       "      <td>24.14</td>\n",
       "    </tr>\n",
       "    <tr>\n",
       "      <th>1</th>\n",
       "      <td>SP</td>\n",
       "      <td>22.29</td>\n",
       "    </tr>\n",
       "    <tr>\n",
       "      <th>2</th>\n",
       "      <td>RS</td>\n",
       "      <td>15.62</td>\n",
       "    </tr>\n",
       "  </tbody>\n",
       "</table>\n",
       "</div>"
      ],
      "text/plain": [
       "  estado  percentual\n",
       "0     PR       24.14\n",
       "1     SP       22.29\n",
       "2     RS       15.62"
      ]
     },
     "execution_count": 24,
     "metadata": {},
     "output_type": "execute_result"
    }
   ],
   "source": [
    "#Distribuição por estado\n",
    "df_estado = round(100 * df['ClienteEstado'].value_counts(True),2)\n",
    "#Transformar num data frame\n",
    "##Converte a série em um DataFrame e renomeia as colunas\n",
    "df_estado = df_estado.reset_index()\n",
    "df_estado.columns = ['estado', 'percentual']\n",
    "#Visualização\n",
    "df_estado.head(3)"
   ]
  },
  {
   "cell_type": "code",
   "execution_count": 25,
   "id": "ce9cb471-a13f-47c6-9d6c-ec91eb5369c6",
   "metadata": {},
   "outputs": [
    {
     "data": {
      "text/html": [
       "<div>\n",
       "<style scoped>\n",
       "    .dataframe tbody tr th:only-of-type {\n",
       "        vertical-align: middle;\n",
       "    }\n",
       "\n",
       "    .dataframe tbody tr th {\n",
       "        vertical-align: top;\n",
       "    }\n",
       "\n",
       "    .dataframe thead th {\n",
       "        text-align: right;\n",
       "    }\n",
       "</style>\n",
       "<table border=\"1\" class=\"dataframe\">\n",
       "  <thead>\n",
       "    <tr style=\"text-align: right;\">\n",
       "      <th></th>\n",
       "      <th>estado</th>\n",
       "      <th>percentual</th>\n",
       "    </tr>\n",
       "  </thead>\n",
       "  <tbody>\n",
       "    <tr>\n",
       "      <th>0</th>\n",
       "      <td>PR</td>\n",
       "      <td>24.14</td>\n",
       "    </tr>\n",
       "    <tr>\n",
       "      <th>1</th>\n",
       "      <td>SP</td>\n",
       "      <td>22.29</td>\n",
       "    </tr>\n",
       "    <tr>\n",
       "      <th>2</th>\n",
       "      <td>RS</td>\n",
       "      <td>15.62</td>\n",
       "    </tr>\n",
       "    <tr>\n",
       "      <th>3</th>\n",
       "      <td>RJ</td>\n",
       "      <td>13.21</td>\n",
       "    </tr>\n",
       "    <tr>\n",
       "      <th>4</th>\n",
       "      <td>SC</td>\n",
       "      <td>10.63</td>\n",
       "    </tr>\n",
       "  </tbody>\n",
       "</table>\n",
       "</div>"
      ],
      "text/plain": [
       "  estado  percentual\n",
       "0     PR       24.14\n",
       "1     SP       22.29\n",
       "2     RS       15.62\n",
       "3     RJ       13.21\n",
       "4     SC       10.63"
      ]
     },
     "execution_count": 25,
     "metadata": {},
     "output_type": "execute_result"
    }
   ],
   "source": [
    "df_estado.loc[df_estado.percentual > 5] #Pareto: 86% do fluxo de operações é concentrado em 5 estados"
   ]
  },
  {
   "cell_type": "code",
   "execution_count": 26,
   "id": "447a6990-3b6a-47a1-9f40-a43c7059fc01",
   "metadata": {},
   "outputs": [
    {
     "data": {
      "text/plain": [
       "86.0"
      ]
     },
     "execution_count": 26,
     "metadata": {},
     "output_type": "execute_result"
    }
   ],
   "source": [
    "round(24.14 + 22.29 + 15.62 + 13.21 + 10.63,0) #86% "
   ]
  },
  {
   "cell_type": "code",
   "execution_count": 27,
   "id": "c8b5a7f5-1840-4449-9167-1e7502736e4b",
   "metadata": {},
   "outputs": [],
   "source": [
    "#Salvar por estado\n",
    "df_estado.to_csv('dados_estado.csv', header=True, index=False, sep=';')"
   ]
  },
  {
   "cell_type": "markdown",
   "id": "6c336b08-149d-47c1-986c-6a9ff648c9ef",
   "metadata": {},
   "source": [
    "## Distribuição por região"
   ]
  },
  {
   "cell_type": "code",
   "execution_count": 28,
   "id": "3e47e05a-e819-4c14-96ef-af5433f84d0f",
   "metadata": {},
   "outputs": [
    {
     "data": {
      "text/html": [
       "<div>\n",
       "<style scoped>\n",
       "    .dataframe tbody tr th:only-of-type {\n",
       "        vertical-align: middle;\n",
       "    }\n",
       "\n",
       "    .dataframe tbody tr th {\n",
       "        vertical-align: top;\n",
       "    }\n",
       "\n",
       "    .dataframe thead th {\n",
       "        text-align: right;\n",
       "    }\n",
       "</style>\n",
       "<table border=\"1\" class=\"dataframe\">\n",
       "  <thead>\n",
       "    <tr style=\"text-align: right;\">\n",
       "      <th></th>\n",
       "      <th>regiao</th>\n",
       "      <th>percentual</th>\n",
       "    </tr>\n",
       "  </thead>\n",
       "  <tbody>\n",
       "    <tr>\n",
       "      <th>0</th>\n",
       "      <td>Sul</td>\n",
       "      <td>50.39</td>\n",
       "    </tr>\n",
       "    <tr>\n",
       "      <th>1</th>\n",
       "      <td>Sudeste</td>\n",
       "      <td>40.95</td>\n",
       "    </tr>\n",
       "    <tr>\n",
       "      <th>2</th>\n",
       "      <td>Nordeste</td>\n",
       "      <td>6.48</td>\n",
       "    </tr>\n",
       "    <tr>\n",
       "      <th>3</th>\n",
       "      <td>Centro-Oeste</td>\n",
       "      <td>1.61</td>\n",
       "    </tr>\n",
       "    <tr>\n",
       "      <th>4</th>\n",
       "      <td>Norte</td>\n",
       "      <td>0.58</td>\n",
       "    </tr>\n",
       "  </tbody>\n",
       "</table>\n",
       "</div>"
      ],
      "text/plain": [
       "         regiao  percentual\n",
       "0           Sul       50.39\n",
       "1       Sudeste       40.95\n",
       "2      Nordeste        6.48\n",
       "3  Centro-Oeste        1.61\n",
       "4         Norte        0.58"
      ]
     },
     "execution_count": 28,
     "metadata": {},
     "output_type": "execute_result"
    }
   ],
   "source": [
    "#Distribuição por região\n",
    "df_regiao = round(100 * df['Regiao'].value_counts(True),2)\n",
    "#Transformar num data frame\n",
    "##Converte a série em um DataFrame e renomeia as colunas\n",
    "df_regiao = df_regiao.reset_index()\n",
    "df_regiao.columns = ['regiao', 'percentual']\n",
    "#Visualização\n",
    "df_regiao.head(5) #Pareto: Sul + Suldeste = 91% dos clientes"
   ]
  },
  {
   "cell_type": "markdown",
   "id": "77c04948-cab1-4661-a980-712a2e758668",
   "metadata": {},
   "source": [
    "## Distribuição por estado civil"
   ]
  },
  {
   "cell_type": "code",
   "execution_count": 29,
   "id": "45bb8d6c-5f0d-4ecc-8226-114d7ea6e078",
   "metadata": {},
   "outputs": [
    {
     "data": {
      "text/html": [
       "<div>\n",
       "<style scoped>\n",
       "    .dataframe tbody tr th:only-of-type {\n",
       "        vertical-align: middle;\n",
       "    }\n",
       "\n",
       "    .dataframe tbody tr th {\n",
       "        vertical-align: top;\n",
       "    }\n",
       "\n",
       "    .dataframe thead th {\n",
       "        text-align: right;\n",
       "    }\n",
       "</style>\n",
       "<table border=\"1\" class=\"dataframe\">\n",
       "  <thead>\n",
       "    <tr style=\"text-align: right;\">\n",
       "      <th></th>\n",
       "      <th>estado_civil</th>\n",
       "      <th>percentual</th>\n",
       "    </tr>\n",
       "  </thead>\n",
       "  <tbody>\n",
       "    <tr>\n",
       "      <th>0</th>\n",
       "      <td>OUTROS</td>\n",
       "      <td>48.73</td>\n",
       "    </tr>\n",
       "    <tr>\n",
       "      <th>1</th>\n",
       "      <td>SOLTEIRO</td>\n",
       "      <td>26.73</td>\n",
       "    </tr>\n",
       "    <tr>\n",
       "      <th>2</th>\n",
       "      <td>CASADO</td>\n",
       "      <td>13.50</td>\n",
       "    </tr>\n",
       "    <tr>\n",
       "      <th>3</th>\n",
       "      <td>VIUVO</td>\n",
       "      <td>9.97</td>\n",
       "    </tr>\n",
       "    <tr>\n",
       "      <th>4</th>\n",
       "      <td>DIVORCIADO</td>\n",
       "      <td>0.72</td>\n",
       "    </tr>\n",
       "  </tbody>\n",
       "</table>\n",
       "</div>"
      ],
      "text/plain": [
       "  estado_civil  percentual\n",
       "0       OUTROS       48.73\n",
       "1     SOLTEIRO       26.73\n",
       "2       CASADO       13.50\n",
       "3        VIUVO        9.97\n",
       "4   DIVORCIADO        0.72"
      ]
     },
     "execution_count": 29,
     "metadata": {},
     "output_type": "execute_result"
    }
   ],
   "source": [
    "#Distribuição por estado civil\n",
    "df_ec = round(100 * df['EstadoCivil'].value_counts(True),2)\n",
    "#Transformar num data frame\n",
    "##Converte a série em um DataFrame e renomeia as colunas\n",
    "df_ec = df_ec.reset_index()\n",
    "df_ec.columns = ['estado_civil', 'percentual']\n",
    "#Visualização\n",
    "df_ec.head(5) "
   ]
  },
  {
   "cell_type": "markdown",
   "id": "7ec1d4ca-83ed-44dc-86f6-ad72ba8553b1",
   "metadata": {},
   "source": [
    "## Distribuição por idade"
   ]
  },
  {
   "cell_type": "code",
   "execution_count": 30,
   "id": "4cfc1198-cd24-4eee-99c9-c8e54896e242",
   "metadata": {},
   "outputs": [
    {
     "data": {
      "text/plain": [
       "count    16849.000000\n",
       "mean        76.279661\n",
       "std          1.837541\n",
       "min         74.000000\n",
       "10%         74.000000\n",
       "20%         74.000000\n",
       "30%         75.000000\n",
       "40%         75.000000\n",
       "50%         76.000000\n",
       "60%         77.000000\n",
       "70%         77.000000\n",
       "80%         78.000000\n",
       "90%         79.000000\n",
       "max         83.000000\n",
       "Name: IdadeAnos, dtype: float64"
      ]
     },
     "execution_count": 30,
     "metadata": {},
     "output_type": "execute_result"
    }
   ],
   "source": [
    "df['IdadeAnos'].describe(percentiles=[0.1, 0.2, 0.3, 0.4, 0.5, 0.6, 0.7, 0.8, 0.9]) #Público Idoso: Acima de 70 anos. \n",
    "#Média: 76\n",
    "#Mediana: 76\n",
    "#Mínimo:74\n",
    "#Máximo: 83\n",
    "#Pouco variabilidade e concentrado em idosos"
   ]
  },
  {
   "cell_type": "markdown",
   "id": "d369c245-6a68-4a5d-a132-b6668f220e1a",
   "metadata": {},
   "source": [
    "### Criação da variável idade_faixas.\n",
    "\n",
    "* Colocar idade segmentada em faixas: **74**, **75**, **76**, **77**, **78 - 79**, **80 - MAX**."
   ]
  },
  {
   "cell_type": "code",
   "execution_count": 31,
   "id": "4919824c-2599-43a3-8534-77a093135000",
   "metadata": {},
   "outputs": [],
   "source": [
    "#idade_faixas\n",
    "condicoes_idade = [\n",
    "    df['IdadeAnos'] <= 74,\n",
    "    df['IdadeAnos'] == 75,\n",
    "    df['IdadeAnos'] == 76,\n",
    "    df['IdadeAnos'] == 77,\n",
    "    df['IdadeAnos'].isin([78, 79]),\n",
    "    df['IdadeAnos'] > 79\n",
    "]\n",
    "\n",
    "rotulos_idade = ['F74', 'F75', 'F76', 'F77', 'F78-79', 'F80-MAX']\n",
    "\n",
    "# Cria a variável categórica idade_faixas\n",
    "df['idade_faixas'] = np.select(condicoes_idade, rotulos_idade, default='Outro')"
   ]
  },
  {
   "cell_type": "markdown",
   "id": "015054dd-d739-4da6-9ed2-a58d6fb4514f",
   "metadata": {},
   "source": [
    "## Distribuição por operação"
   ]
  },
  {
   "cell_type": "code",
   "execution_count": 32,
   "id": "884da179-eced-444d-a9dc-8154ff4f4612",
   "metadata": {},
   "outputs": [
    {
     "data": {
      "text/html": [
       "<div>\n",
       "<style scoped>\n",
       "    .dataframe tbody tr th:only-of-type {\n",
       "        vertical-align: middle;\n",
       "    }\n",
       "\n",
       "    .dataframe tbody tr th {\n",
       "        vertical-align: top;\n",
       "    }\n",
       "\n",
       "    .dataframe thead th {\n",
       "        text-align: right;\n",
       "    }\n",
       "</style>\n",
       "<table border=\"1\" class=\"dataframe\">\n",
       "  <thead>\n",
       "    <tr style=\"text-align: right;\">\n",
       "      <th></th>\n",
       "      <th>operacao</th>\n",
       "      <th>percentual</th>\n",
       "    </tr>\n",
       "  </thead>\n",
       "  <tbody>\n",
       "    <tr>\n",
       "      <th>0</th>\n",
       "      <td>1</td>\n",
       "      <td>28.99</td>\n",
       "    </tr>\n",
       "    <tr>\n",
       "      <th>1</th>\n",
       "      <td>2</td>\n",
       "      <td>17.09</td>\n",
       "    </tr>\n",
       "    <tr>\n",
       "      <th>2</th>\n",
       "      <td>3</td>\n",
       "      <td>11.55</td>\n",
       "    </tr>\n",
       "  </tbody>\n",
       "</table>\n",
       "</div>"
      ],
      "text/plain": [
       "   operacao  percentual\n",
       "0         1       28.99\n",
       "1         2       17.09\n",
       "2         3       11.55"
      ]
     },
     "execution_count": 32,
     "metadata": {},
     "output_type": "execute_result"
    }
   ],
   "source": [
    "#Distribuição por operação\n",
    "df_operacao = round(100 * df['distinct_operacoes'].value_counts(True),2)\n",
    "#Transformar num data frame\n",
    "##Converte a série em um DataFrame e renomeia as colunas\n",
    "df_operacao = df_operacao.reset_index()\n",
    "df_operacao.columns = ['operacao', 'percentual']\n",
    "#Visualização\n",
    "df_operacao.head(3)"
   ]
  },
  {
   "cell_type": "code",
   "execution_count": 33,
   "id": "e66909d1-0479-4c0b-9f3c-59fcdabef278",
   "metadata": {},
   "outputs": [
    {
     "data": {
      "text/html": [
       "<div>\n",
       "<style scoped>\n",
       "    .dataframe tbody tr th:only-of-type {\n",
       "        vertical-align: middle;\n",
       "    }\n",
       "\n",
       "    .dataframe tbody tr th {\n",
       "        vertical-align: top;\n",
       "    }\n",
       "\n",
       "    .dataframe thead th {\n",
       "        text-align: right;\n",
       "    }\n",
       "</style>\n",
       "<table border=\"1\" class=\"dataframe\">\n",
       "  <thead>\n",
       "    <tr style=\"text-align: right;\">\n",
       "      <th></th>\n",
       "      <th>operacao</th>\n",
       "      <th>percentual</th>\n",
       "    </tr>\n",
       "  </thead>\n",
       "  <tbody>\n",
       "    <tr>\n",
       "      <th>0</th>\n",
       "      <td>1</td>\n",
       "      <td>28.99</td>\n",
       "    </tr>\n",
       "    <tr>\n",
       "      <th>1</th>\n",
       "      <td>2</td>\n",
       "      <td>17.09</td>\n",
       "    </tr>\n",
       "    <tr>\n",
       "      <th>2</th>\n",
       "      <td>3</td>\n",
       "      <td>11.55</td>\n",
       "    </tr>\n",
       "    <tr>\n",
       "      <th>3</th>\n",
       "      <td>4</td>\n",
       "      <td>9.09</td>\n",
       "    </tr>\n",
       "    <tr>\n",
       "      <th>4</th>\n",
       "      <td>5</td>\n",
       "      <td>7.18</td>\n",
       "    </tr>\n",
       "    <tr>\n",
       "      <th>5</th>\n",
       "      <td>6</td>\n",
       "      <td>6.12</td>\n",
       "    </tr>\n",
       "  </tbody>\n",
       "</table>\n",
       "</div>"
      ],
      "text/plain": [
       "   operacao  percentual\n",
       "0         1       28.99\n",
       "1         2       17.09\n",
       "2         3       11.55\n",
       "3         4        9.09\n",
       "4         5        7.18\n",
       "5         6        6.12"
      ]
     },
     "execution_count": 33,
     "metadata": {},
     "output_type": "execute_result"
    }
   ],
   "source": [
    "#Pareto da operação\n",
    "df_operacao.loc[df_operacao.percentual > 5] #Pareto: 80% do fluxo de operações é concentrado em até 6 operações"
   ]
  },
  {
   "cell_type": "code",
   "execution_count": 34,
   "id": "7623f84f-9406-4b92-b8c7-09b5bcd6d057",
   "metadata": {},
   "outputs": [
    {
     "data": {
      "text/plain": [
       "80.0"
      ]
     },
     "execution_count": 34,
     "metadata": {},
     "output_type": "execute_result"
    }
   ],
   "source": [
    "round(28.99 + 17.09 + 11.55 + 9.09 + 7.18 + 6.12,0) #80%"
   ]
  },
  {
   "cell_type": "markdown",
   "id": "43a5b74e-6bc8-4c4d-98ef-618ae2f67a68",
   "metadata": {},
   "source": [
    "### Criação da variável operacao_faixas.\n",
    "\n",
    "* Colocar operação segmentada em faixas: **1**, **2**, **3**, **4**, **5**, **6**, **7 - MAX**."
   ]
  },
  {
   "cell_type": "code",
   "execution_count": 35,
   "id": "fcbd645e-39eb-485d-b801-3411490f5fbe",
   "metadata": {},
   "outputs": [],
   "source": [
    "#operacao_faixas\n",
    "condicoes_operacao = [\n",
    "    df['distinct_operacoes'] <= 1,\n",
    "    df['distinct_operacoes'] == 2,\n",
    "    df['distinct_operacoes'] == 3,\n",
    "    df['distinct_operacoes'] == 4,\n",
    "    df['distinct_operacoes'] == 5,\n",
    "    df['distinct_operacoes'] == 6,\n",
    "    df['IdadeAnos'] > 6\n",
    "]\n",
    "\n",
    "rotulos_operacao = ['F1', 'F2', 'F3', 'F4', 'F5', 'F6', 'F7-MAX']\n",
    "\n",
    "# Cria a variável categórica idade_faixas\n",
    "df['operacao_faixas'] = np.select(condicoes_operacao, rotulos_operacao, default='Outro')"
   ]
  },
  {
   "cell_type": "markdown",
   "id": "8a4a11e0-5ce2-4dbb-84cc-bb6753537ac1",
   "metadata": {},
   "source": [
    "## Distribuição por sexo"
   ]
  },
  {
   "cell_type": "code",
   "execution_count": 36,
   "id": "4f63937a-23f3-4aaa-9edf-71d32f47313c",
   "metadata": {},
   "outputs": [
    {
     "data": {
      "text/html": [
       "<div>\n",
       "<style scoped>\n",
       "    .dataframe tbody tr th:only-of-type {\n",
       "        vertical-align: middle;\n",
       "    }\n",
       "\n",
       "    .dataframe tbody tr th {\n",
       "        vertical-align: top;\n",
       "    }\n",
       "\n",
       "    .dataframe thead th {\n",
       "        text-align: right;\n",
       "    }\n",
       "</style>\n",
       "<table border=\"1\" class=\"dataframe\">\n",
       "  <thead>\n",
       "    <tr style=\"text-align: right;\">\n",
       "      <th></th>\n",
       "      <th>Sexo</th>\n",
       "      <th>Percentual</th>\n",
       "    </tr>\n",
       "  </thead>\n",
       "  <tbody>\n",
       "    <tr>\n",
       "      <th>0</th>\n",
       "      <td>F</td>\n",
       "      <td>54.15</td>\n",
       "    </tr>\n",
       "    <tr>\n",
       "      <th>1</th>\n",
       "      <td>M</td>\n",
       "      <td>45.85</td>\n",
       "    </tr>\n",
       "  </tbody>\n",
       "</table>\n",
       "</div>"
      ],
      "text/plain": [
       "  Sexo  Percentual\n",
       "0    F       54.15\n",
       "1    M       45.85"
      ]
     },
     "execution_count": 36,
     "metadata": {},
     "output_type": "execute_result"
    }
   ],
   "source": [
    "#Distribuição por sexo\n",
    "df_sexo = round(100 * df['sexo'].value_counts(True),2)\n",
    "#Transformar num data frame\n",
    "##Converte a série em um DataFrame e renomeia as colunas\n",
    "df_sexo = df_sexo.reset_index()\n",
    "df_sexo.columns = ['Sexo', 'Percentual']\n",
    "#Visualização\n",
    "df_sexo.head(3) #54 (F) vs 46 (M)"
   ]
  },
  {
   "cell_type": "markdown",
   "id": "a8122dd8-eb46-4c65-a9f3-139cbef5cfbe",
   "metadata": {},
   "source": [
    "## Tipo de remuneração dos clientes"
   ]
  },
  {
   "cell_type": "code",
   "execution_count": 37,
   "id": "c374d9dd-30ea-4efd-a079-0ac490f9fb16",
   "metadata": {},
   "outputs": [
    {
     "data": {
      "text/html": [
       "<div>\n",
       "<style scoped>\n",
       "    .dataframe tbody tr th:only-of-type {\n",
       "        vertical-align: middle;\n",
       "    }\n",
       "\n",
       "    .dataframe tbody tr th {\n",
       "        vertical-align: top;\n",
       "    }\n",
       "\n",
       "    .dataframe thead th {\n",
       "        text-align: right;\n",
       "    }\n",
       "</style>\n",
       "<table border=\"1\" class=\"dataframe\">\n",
       "  <thead>\n",
       "    <tr style=\"text-align: right;\">\n",
       "      <th></th>\n",
       "      <th>publico_alvo</th>\n",
       "      <th>percentual</th>\n",
       "    </tr>\n",
       "  </thead>\n",
       "  <tbody>\n",
       "    <tr>\n",
       "      <th>0</th>\n",
       "      <td>Aposentadoria_idade</td>\n",
       "      <td>35.06</td>\n",
       "    </tr>\n",
       "    <tr>\n",
       "      <th>1</th>\n",
       "      <td>Aposentadoria_tempo_contribuicao</td>\n",
       "      <td>23.82</td>\n",
       "    </tr>\n",
       "    <tr>\n",
       "      <th>2</th>\n",
       "      <td>Pensao_morte</td>\n",
       "      <td>20.85</td>\n",
       "    </tr>\n",
       "  </tbody>\n",
       "</table>\n",
       "</div>"
      ],
      "text/plain": [
       "                       publico_alvo  percentual\n",
       "0               Aposentadoria_idade       35.06\n",
       "1  Aposentadoria_tempo_contribuicao       23.82\n",
       "2                      Pensao_morte       20.85"
      ]
     },
     "execution_count": 37,
     "metadata": {},
     "output_type": "execute_result"
    }
   ],
   "source": [
    "#Distribuição por público-alvo\n",
    "df_publico = round(100 * df['publico_alvo'].value_counts(True),2)\n",
    "#Transformar num data frame\n",
    "##Converte a série em um DataFrame e renomeia as colunas\n",
    "df_publico = df_publico.reset_index()\n",
    "df_publico.columns = ['publico_alvo', 'percentual']\n",
    "#Visualização\n",
    "df_publico.head(3)"
   ]
  },
  {
   "cell_type": "code",
   "execution_count": 38,
   "id": "42acdf43-1f73-4766-8687-f72e4cae294e",
   "metadata": {},
   "outputs": [],
   "source": [
    "#Salvar por publico_alvo\n",
    "df_publico.to_csv('dados_publico.csv', header=True, index=False, sep=';')"
   ]
  },
  {
   "cell_type": "markdown",
   "id": "91c26a7e-499b-476d-bd46-b2d995fb8e42",
   "metadata": {},
   "source": [
    "## Duration\n",
    "\n",
    "* Tempo de relacionamento do cliente com o banco."
   ]
  },
  {
   "cell_type": "code",
   "execution_count": 39,
   "id": "0a9d77de-6735-4d1b-9638-270d60752ae5",
   "metadata": {},
   "outputs": [
    {
     "data": {
      "text/plain": [
       "count    16843.000000\n",
       "mean        66.711690\n",
       "std         47.684823\n",
       "min          1.000000\n",
       "10%         11.000000\n",
       "20%         25.000000\n",
       "30%         43.000000\n",
       "40%         52.000000\n",
       "50%         57.000000\n",
       "60%         62.000000\n",
       "70%         71.000000\n",
       "80%         95.000000\n",
       "90%        146.000000\n",
       "max        191.000000\n",
       "Name: duration, dtype: float64"
      ]
     },
     "execution_count": 39,
     "metadata": {},
     "output_type": "execute_result"
    }
   ],
   "source": [
    "#Suposição: A variável está definida em mês\n",
    "df['duration'].describe(percentiles=[0.1, 0.2, 0.3, 0.4, 0.5, 0.6, 0.7, 0.8, 0.9])"
   ]
  },
  {
   "cell_type": "markdown",
   "id": "817d899b-c603-4b10-80a5-837a2640628c",
   "metadata": {},
   "source": [
    "## Lucro"
   ]
  },
  {
   "cell_type": "code",
   "execution_count": 40,
   "id": "0ffa41c3-dd09-42ea-8046-e14641a465e1",
   "metadata": {},
   "outputs": [
    {
     "data": {
      "text/plain": [
       "count    15865.000000\n",
       "mean        24.404452\n",
       "std         35.061996\n",
       "min        -17.826048\n",
       "10%          1.023325\n",
       "20%          2.707245\n",
       "30%          5.372602\n",
       "40%          9.358490\n",
       "50%         14.321296\n",
       "60%         19.559850\n",
       "70%         26.287184\n",
       "80%         36.936368\n",
       "90%         57.458083\n",
       "max        760.776512\n",
       "Name: lucro, dtype: float64"
      ]
     },
     "execution_count": 40,
     "metadata": {},
     "output_type": "execute_result"
    }
   ],
   "source": [
    "#Empréstimos que deram prejuízo\n",
    "df_lucro = df.loc[df.Obito == 0]\n",
    "#Análise\n",
    "df_lucro['lucro'].describe(percentiles=[0.1, 0.2, 0.3, 0.4, 0.5, 0.6, 0.7, 0.8, 0.9]) #Lucro médio: 24 reais"
   ]
  },
  {
   "cell_type": "code",
   "execution_count": 42,
   "id": "6aea0f0b-4f4b-4f37-8b5f-0863547acae0",
   "metadata": {},
   "outputs": [
    {
     "data": {
      "text/plain": [
       "6"
      ]
     },
     "execution_count": 42,
     "metadata": {},
     "output_type": "execute_result"
    }
   ],
   "source": [
    "#Análise 1\n",
    "df_lucro.loc[df.lucro<0].shape[0] #6"
   ]
  },
  {
   "cell_type": "code",
   "execution_count": 43,
   "id": "1678a95d-4c3e-4362-baa7-476fc3d90ba3",
   "metadata": {},
   "outputs": [
    {
     "data": {
      "text/html": [
       "<div>\n",
       "<style scoped>\n",
       "    .dataframe tbody tr th:only-of-type {\n",
       "        vertical-align: middle;\n",
       "    }\n",
       "\n",
       "    .dataframe tbody tr th {\n",
       "        vertical-align: top;\n",
       "    }\n",
       "\n",
       "    .dataframe thead th {\n",
       "        text-align: right;\n",
       "    }\n",
       "</style>\n",
       "<table border=\"1\" class=\"dataframe\">\n",
       "  <thead>\n",
       "    <tr style=\"text-align: right;\">\n",
       "      <th></th>\n",
       "      <th>codigocliente</th>\n",
       "      <th>AnoMesBase</th>\n",
       "      <th>Aposentadoria_idade</th>\n",
       "      <th>Aposentadoria_invalidez</th>\n",
       "      <th>Aposentadoria_tempo_contribuicao</th>\n",
       "      <th>Pensao_morte</th>\n",
       "      <th>Auxilio</th>\n",
       "      <th>Beneficios_assistenciais</th>\n",
       "      <th>Diversos_e_uniao</th>\n",
       "      <th>Obito</th>\n",
       "      <th>IdadeAnos</th>\n",
       "      <th>DataNascimento</th>\n",
       "      <th>Regiao</th>\n",
       "      <th>ClienteEstado</th>\n",
       "      <th>EstadoCivil</th>\n",
       "      <th>distinct_operacoes</th>\n",
       "      <th>VlrPrincipal_Inicial</th>\n",
       "      <th>VlrPrincipal_Atual</th>\n",
       "      <th>valor_prejuizo</th>\n",
       "      <th>sexo</th>\n",
       "      <th>duration</th>\n",
       "      <th>VlrReceitaJuros</th>\n",
       "      <th>VlrReceitaJuros_74</th>\n",
       "      <th>lucro</th>\n",
       "      <th>publico_alvo</th>\n",
       "      <th>idade_faixas</th>\n",
       "      <th>operacao_faixas</th>\n",
       "    </tr>\n",
       "  </thead>\n",
       "  <tbody>\n",
       "    <tr>\n",
       "      <th>8459</th>\n",
       "      <td>8460</td>\n",
       "      <td>202412</td>\n",
       "      <td>1</td>\n",
       "      <td>0</td>\n",
       "      <td>0</td>\n",
       "      <td>1</td>\n",
       "      <td>0</td>\n",
       "      <td>0</td>\n",
       "      <td>0</td>\n",
       "      <td>0</td>\n",
       "      <td>77</td>\n",
       "      <td>1947-05-27 00:00:00</td>\n",
       "      <td>Sudeste</td>\n",
       "      <td>SP</td>\n",
       "      <td>OUTROS</td>\n",
       "      <td>4</td>\n",
       "      <td>10149.59</td>\n",
       "      <td>5146.29</td>\n",
       "      <td>0.0</td>\n",
       "      <td>F</td>\n",
       "      <td>54.0</td>\n",
       "      <td>-11141.28</td>\n",
       "      <td>4596.99</td>\n",
       "      <td>-17.826048</td>\n",
       "      <td>Aposentadoria_idade-Pensao_morte</td>\n",
       "      <td>F77</td>\n",
       "      <td>F4</td>\n",
       "    </tr>\n",
       "    <tr>\n",
       "      <th>8766</th>\n",
       "      <td>8767</td>\n",
       "      <td>202412</td>\n",
       "      <td>0</td>\n",
       "      <td>0</td>\n",
       "      <td>1</td>\n",
       "      <td>0</td>\n",
       "      <td>0</td>\n",
       "      <td>0</td>\n",
       "      <td>0</td>\n",
       "      <td>0</td>\n",
       "      <td>77</td>\n",
       "      <td>1947-05-18 00:00:00</td>\n",
       "      <td>Sudeste</td>\n",
       "      <td>RJ</td>\n",
       "      <td>OUTROS</td>\n",
       "      <td>5</td>\n",
       "      <td>16183.80</td>\n",
       "      <td>10439.52</td>\n",
       "      <td>0.0</td>\n",
       "      <td>F</td>\n",
       "      <td>60.0</td>\n",
       "      <td>-4271.34</td>\n",
       "      <td>9218.59</td>\n",
       "      <td>-6.834144</td>\n",
       "      <td>Aposentadoria_tempo_contribuicao</td>\n",
       "      <td>F77</td>\n",
       "      <td>F5</td>\n",
       "    </tr>\n",
       "    <tr>\n",
       "      <th>8909</th>\n",
       "      <td>8910</td>\n",
       "      <td>202412</td>\n",
       "      <td>1</td>\n",
       "      <td>0</td>\n",
       "      <td>0</td>\n",
       "      <td>0</td>\n",
       "      <td>0</td>\n",
       "      <td>0</td>\n",
       "      <td>0</td>\n",
       "      <td>0</td>\n",
       "      <td>77</td>\n",
       "      <td>1947-08-18 00:00:00</td>\n",
       "      <td>Sul</td>\n",
       "      <td>SC</td>\n",
       "      <td>SOLTEIRO</td>\n",
       "      <td>1</td>\n",
       "      <td>615.39</td>\n",
       "      <td>198.43</td>\n",
       "      <td>0.0</td>\n",
       "      <td>F</td>\n",
       "      <td>57.0</td>\n",
       "      <td>-125.27</td>\n",
       "      <td>-342.46</td>\n",
       "      <td>-0.200432</td>\n",
       "      <td>Aposentadoria_idade</td>\n",
       "      <td>F77</td>\n",
       "      <td>F1</td>\n",
       "    </tr>\n",
       "    <tr>\n",
       "      <th>11195</th>\n",
       "      <td>11196</td>\n",
       "      <td>202412</td>\n",
       "      <td>0</td>\n",
       "      <td>0</td>\n",
       "      <td>0</td>\n",
       "      <td>1</td>\n",
       "      <td>0</td>\n",
       "      <td>0</td>\n",
       "      <td>0</td>\n",
       "      <td>0</td>\n",
       "      <td>76</td>\n",
       "      <td>1948-07-10 03:00:00</td>\n",
       "      <td>Nordeste</td>\n",
       "      <td>BA</td>\n",
       "      <td>OUTROS</td>\n",
       "      <td>3</td>\n",
       "      <td>2751.34</td>\n",
       "      <td>2485.90</td>\n",
       "      <td>0.0</td>\n",
       "      <td>F</td>\n",
       "      <td>57.0</td>\n",
       "      <td>-276.35</td>\n",
       "      <td>959.17</td>\n",
       "      <td>-0.442160</td>\n",
       "      <td>Pensao_morte</td>\n",
       "      <td>F76</td>\n",
       "      <td>F3</td>\n",
       "    </tr>\n",
       "    <tr>\n",
       "      <th>11833</th>\n",
       "      <td>11834</td>\n",
       "      <td>202412</td>\n",
       "      <td>0</td>\n",
       "      <td>0</td>\n",
       "      <td>1</td>\n",
       "      <td>1</td>\n",
       "      <td>0</td>\n",
       "      <td>0</td>\n",
       "      <td>0</td>\n",
       "      <td>0</td>\n",
       "      <td>74</td>\n",
       "      <td>1950-07-08 00:00:00</td>\n",
       "      <td>Sul</td>\n",
       "      <td>PR</td>\n",
       "      <td>OUTROS</td>\n",
       "      <td>4</td>\n",
       "      <td>1789.05</td>\n",
       "      <td>794.95</td>\n",
       "      <td>0.0</td>\n",
       "      <td>F</td>\n",
       "      <td>58.0</td>\n",
       "      <td>-8596.86</td>\n",
       "      <td>92.46</td>\n",
       "      <td>-13.754976</td>\n",
       "      <td>Aposentadoria_tempo_contribuicao-Pensao_morte</td>\n",
       "      <td>F74</td>\n",
       "      <td>F4</td>\n",
       "    </tr>\n",
       "    <tr>\n",
       "      <th>15499</th>\n",
       "      <td>15500</td>\n",
       "      <td>202412</td>\n",
       "      <td>1</td>\n",
       "      <td>0</td>\n",
       "      <td>0</td>\n",
       "      <td>0</td>\n",
       "      <td>0</td>\n",
       "      <td>0</td>\n",
       "      <td>0</td>\n",
       "      <td>0</td>\n",
       "      <td>78</td>\n",
       "      <td>1946-04-28 00:00:00</td>\n",
       "      <td>Nordeste</td>\n",
       "      <td>PB</td>\n",
       "      <td>OUTROS</td>\n",
       "      <td>1</td>\n",
       "      <td>989.36</td>\n",
       "      <td>268.31</td>\n",
       "      <td>0.0</td>\n",
       "      <td>F</td>\n",
       "      <td>61.0</td>\n",
       "      <td>-3293.73</td>\n",
       "      <td>-3366.20</td>\n",
       "      <td>-5.269968</td>\n",
       "      <td>Aposentadoria_idade</td>\n",
       "      <td>F78-79</td>\n",
       "      <td>F1</td>\n",
       "    </tr>\n",
       "  </tbody>\n",
       "</table>\n",
       "</div>"
      ],
      "text/plain": [
       "       codigocliente AnoMesBase  Aposentadoria_idade  Aposentadoria_invalidez  \\\n",
       "8459            8460     202412                    1                        0   \n",
       "8766            8767     202412                    0                        0   \n",
       "8909            8910     202412                    1                        0   \n",
       "11195          11196     202412                    0                        0   \n",
       "11833          11834     202412                    0                        0   \n",
       "15499          15500     202412                    1                        0   \n",
       "\n",
       "       Aposentadoria_tempo_contribuicao  Pensao_morte  Auxilio  \\\n",
       "8459                                  0             1        0   \n",
       "8766                                  1             0        0   \n",
       "8909                                  0             0        0   \n",
       "11195                                 0             1        0   \n",
       "11833                                 1             1        0   \n",
       "15499                                 0             0        0   \n",
       "\n",
       "       Beneficios_assistenciais  Diversos_e_uniao  Obito  IdadeAnos  \\\n",
       "8459                          0                 0      0         77   \n",
       "8766                          0                 0      0         77   \n",
       "8909                          0                 0      0         77   \n",
       "11195                         0                 0      0         76   \n",
       "11833                         0                 0      0         74   \n",
       "15499                         0                 0      0         78   \n",
       "\n",
       "           DataNascimento    Regiao ClienteEstado EstadoCivil  \\\n",
       "8459  1947-05-27 00:00:00   Sudeste            SP      OUTROS   \n",
       "8766  1947-05-18 00:00:00   Sudeste            RJ      OUTROS   \n",
       "8909  1947-08-18 00:00:00       Sul            SC    SOLTEIRO   \n",
       "11195 1948-07-10 03:00:00  Nordeste            BA      OUTROS   \n",
       "11833 1950-07-08 00:00:00       Sul            PR      OUTROS   \n",
       "15499 1946-04-28 00:00:00  Nordeste            PB      OUTROS   \n",
       "\n",
       "       distinct_operacoes  VlrPrincipal_Inicial  VlrPrincipal_Atual  \\\n",
       "8459                    4              10149.59             5146.29   \n",
       "8766                    5              16183.80            10439.52   \n",
       "8909                    1                615.39              198.43   \n",
       "11195                   3               2751.34             2485.90   \n",
       "11833                   4               1789.05              794.95   \n",
       "15499                   1                989.36              268.31   \n",
       "\n",
       "       valor_prejuizo sexo  duration  VlrReceitaJuros  VlrReceitaJuros_74  \\\n",
       "8459              0.0    F      54.0        -11141.28             4596.99   \n",
       "8766              0.0    F      60.0         -4271.34             9218.59   \n",
       "8909              0.0    F      57.0          -125.27             -342.46   \n",
       "11195             0.0    F      57.0          -276.35              959.17   \n",
       "11833             0.0    F      58.0         -8596.86               92.46   \n",
       "15499             0.0    F      61.0         -3293.73            -3366.20   \n",
       "\n",
       "           lucro                                   publico_alvo idade_faixas  \\\n",
       "8459  -17.826048               Aposentadoria_idade-Pensao_morte          F77   \n",
       "8766   -6.834144               Aposentadoria_tempo_contribuicao          F77   \n",
       "8909   -0.200432                            Aposentadoria_idade          F77   \n",
       "11195  -0.442160                                   Pensao_morte          F76   \n",
       "11833 -13.754976  Aposentadoria_tempo_contribuicao-Pensao_morte          F74   \n",
       "15499  -5.269968                            Aposentadoria_idade       F78-79   \n",
       "\n",
       "      operacao_faixas  \n",
       "8459               F4  \n",
       "8766               F5  \n",
       "8909               F1  \n",
       "11195              F3  \n",
       "11833              F4  \n",
       "15499              F1  "
      ]
     },
     "execution_count": 43,
     "metadata": {},
     "output_type": "execute_result"
    }
   ],
   "source": [
    "#Análise 2\n",
    "df_lucro.loc[df.lucro<0].head(6)"
   ]
  },
  {
   "cell_type": "markdown",
   "id": "0675cc0b-2327-4369-93c0-8a3c826bf28f",
   "metadata": {},
   "source": [
    "## Variáveis financeiras"
   ]
  },
  {
   "cell_type": "markdown",
   "id": "49022ecd-b2ee-40ca-a893-c0baa4c63181",
   "metadata": {},
   "source": [
    "### 1 - Prejuízo\n",
    "\n",
    "* **Nota**: O prejuízo só ocorre quando óbito é igual a 1."
   ]
  },
  {
   "cell_type": "code",
   "execution_count": 47,
   "id": "c066652b-9ec6-4ceb-8fdb-3cc027eaed19",
   "metadata": {},
   "outputs": [
    {
     "data": {
      "text/plain": [
       "count    16849.000000\n",
       "mean       574.087813\n",
       "std       3711.851332\n",
       "min          0.000000\n",
       "10%          0.000000\n",
       "20%          0.000000\n",
       "30%          0.000000\n",
       "40%          0.000000\n",
       "50%          0.000000\n",
       "60%          0.000000\n",
       "70%          0.000000\n",
       "80%          0.000000\n",
       "90%          0.000000\n",
       "max      76651.660000\n",
       "Name: valor_prejuizo, dtype: float64"
      ]
     },
     "execution_count": 47,
     "metadata": {},
     "output_type": "execute_result"
    }
   ],
   "source": [
    "df['valor_prejuizo'].describe(percentiles=[0.1, 0.2, 0.3, 0.4, 0.5, 0.6, 0.7, 0.8, 0.9]) #574 reais"
   ]
  },
  {
   "cell_type": "code",
   "execution_count": 48,
   "id": "b4004e4a-a108-42cb-bf86-d5fd8bbfc0a3",
   "metadata": {},
   "outputs": [
    {
     "data": {
      "text/plain": [
       "count    15865.0\n",
       "mean         0.0\n",
       "std          0.0\n",
       "min          0.0\n",
       "25%          0.0\n",
       "50%          0.0\n",
       "75%          0.0\n",
       "max          0.0\n",
       "Name: valor_prejuizo, dtype: float64"
      ]
     },
     "execution_count": 48,
     "metadata": {},
     "output_type": "execute_result"
    }
   ],
   "source": [
    "#Validado - não tem prejuízo quando Obito é 0 \n",
    "df.query('Obito == 0')['valor_prejuizo'].describe() "
   ]
  },
  {
   "cell_type": "code",
   "execution_count": 49,
   "id": "516f21cb-bc3c-450f-967a-6e4e9f49ba90",
   "metadata": {},
   "outputs": [
    {
     "data": {
      "text/plain": [
       "count      984.000000\n",
       "mean      9830.086951\n",
       "std      12044.237451\n",
       "min         11.090000\n",
       "10%        530.110000\n",
       "20%       1124.812000\n",
       "30%       2030.294000\n",
       "40%       3245.562000\n",
       "50%       5376.475000\n",
       "60%       8142.364000\n",
       "70%      11256.539000\n",
       "80%      15931.612000\n",
       "90%      25562.321000\n",
       "max      76651.660000\n",
       "Name: valor_prejuizo, dtype: float64"
      ]
     },
     "execution_count": 49,
     "metadata": {},
     "output_type": "execute_result"
    }
   ],
   "source": [
    "#Total de óbitos = 984\n",
    "df.query('Obito == 1')['valor_prejuizo'].describe(percentiles=[0.1, 0.2, 0.3, 0.4, 0.5, 0.6, 0.7, 0.8, 0.9]) "
   ]
  },
  {
   "cell_type": "code",
   "execution_count": 51,
   "id": "c6ad6be3-9b86-40b7-b429-503a93130c5a",
   "metadata": {},
   "outputs": [
    {
     "data": {
      "text/plain": [
       "np.float64(9672806.0)"
      ]
     },
     "execution_count": 51,
     "metadata": {},
     "output_type": "execute_result"
    }
   ],
   "source": [
    "#Prejuízo acumulado\n",
    "round(df.query('Obito == 1')['valor_prejuizo'].sum(),0) #9.672.806"
   ]
  },
  {
   "cell_type": "code",
   "execution_count": 52,
   "id": "3067cc5b-b3d0-4669-9c6e-8e4697ed2c65",
   "metadata": {},
   "outputs": [
    {
     "data": {
      "text/plain": [
       "np.float64(13709805.0)"
      ]
     },
     "execution_count": 52,
     "metadata": {},
     "output_type": "execute_result"
    }
   ],
   "source": [
    "#Valor do principal acumulado\n",
    "round(df.query('Obito == 1')['VlrPrincipal_Inicial'].sum(),0) #13.709.805"
   ]
  },
  {
   "cell_type": "code",
   "execution_count": 54,
   "id": "d3151cef-8410-4d5d-8d5d-5319d648d2ea",
   "metadata": {},
   "outputs": [
    {
     "data": {
      "text/plain": [
       "np.float64(70.55)"
      ]
     },
     "execution_count": 54,
     "metadata": {},
     "output_type": "execute_result"
    }
   ],
   "source": [
    "#Percentual do prejuízo sobre o total\n",
    "round(df.query('Obito == 1')['valor_prejuizo'].sum()/df.query('Obito == 1')['VlrPrincipal_Inicial'].sum(),4) * 100 #70.55"
   ]
  },
  {
   "cell_type": "markdown",
   "id": "1cc65037-8f9e-4b32-bf8b-8501b0b6d77b",
   "metadata": {},
   "source": [
    "### 2 - Distribuição por Valor Principal no início do contrato\n",
    "\n",
    "* Valor do empréstimo."
   ]
  },
  {
   "cell_type": "code",
   "execution_count": 55,
   "id": "aced11d2-8693-4970-bb7f-6c8e72e7d980",
   "metadata": {},
   "outputs": [
    {
     "data": {
      "text/plain": [
       "count     16849.000000\n",
       "mean      13697.645292\n",
       "std       15335.393776\n",
       "min          33.140000\n",
       "10%        1163.472000\n",
       "20%        2162.094000\n",
       "30%        3641.226000\n",
       "40%        5871.028000\n",
       "50%        8965.450000\n",
       "60%       12275.022000\n",
       "70%       16304.016000\n",
       "80%       21097.780000\n",
       "90%       33116.078000\n",
       "max      163665.860000\n",
       "Name: VlrPrincipal_Inicial, dtype: float64"
      ]
     },
     "execution_count": 55,
     "metadata": {},
     "output_type": "execute_result"
    }
   ],
   "source": [
    "df['VlrPrincipal_Inicial'].describe(percentiles=[0.1, 0.2, 0.3, 0.4, 0.5, 0.6, 0.7, 0.8, 0.9]) #Empréstimo médio: 13698"
   ]
  },
  {
   "cell_type": "code",
   "execution_count": 57,
   "id": "f714db0f-9dea-4074-8fa2-60ef8aece1db",
   "metadata": {},
   "outputs": [
    {
     "data": {
      "text/plain": [
       "np.float64(230791626.0)"
      ]
     },
     "execution_count": 57,
     "metadata": {},
     "output_type": "execute_result"
    }
   ],
   "source": [
    "round(df['VlrPrincipal_Inicial'].sum(),0)#230.791.626"
   ]
  },
  {
   "cell_type": "code",
   "execution_count": 80,
   "id": "2b7c25db-f156-4656-b7a4-d2d312655c6d",
   "metadata": {},
   "outputs": [
    {
     "data": {
      "text/plain": [
       "count      984.000000\n",
       "mean     13932.728984\n",
       "std      14988.507484\n",
       "min         40.510000\n",
       "25%       3061.557500\n",
       "50%       9501.205000\n",
       "75%      18317.915000\n",
       "max      93582.930000\n",
       "Name: VlrPrincipal_Inicial, dtype: float64"
      ]
     },
     "execution_count": 80,
     "metadata": {},
     "output_type": "execute_result"
    }
   ],
   "source": [
    "#Empréstimo dos que foram óbito\n",
    "df.query('Obito == 1')['VlrPrincipal_Inicial'].describe() "
   ]
  },
  {
   "cell_type": "markdown",
   "id": "532d5502-cee5-4b9d-9e01-bc326e7e9969",
   "metadata": {},
   "source": [
    "### Criação da variável emprestimo_faixas."
   ]
  },
  {
   "cell_type": "code",
   "execution_count": 63,
   "id": "b215b9ff-8303-41c1-a934-65df3623a7ff",
   "metadata": {},
   "outputs": [],
   "source": [
    "#emprestimo_faixas\n",
    "condicoes_emprestimo = [\n",
    "    df['VlrPrincipal_Inicial'] <= 10000,\n",
    "   (df['VlrPrincipal_Inicial'] > 10000) & (df['VlrPrincipal_Inicial'] <= 20000),\n",
    "    df['VlrPrincipal_Inicial'] > 20000\n",
    "]\n",
    "\n",
    "rotulos_emprestimo= ['ATE10000', '10000-20000', 'M20000']\n",
    "\n",
    "# Cria a variável categórica idade_faixas\n",
    "df['emprestimo_faixas'] = np.select(condicoes_emprestimo, rotulos_emprestimo, default='Outro')"
   ]
  },
  {
   "cell_type": "markdown",
   "id": "12942a3b-5b99-4472-b8a2-ea29501dc1b7",
   "metadata": {},
   "source": [
    "### 3 - Distribuição por Valor Principal no período atual"
   ]
  },
  {
   "cell_type": "code",
   "execution_count": 58,
   "id": "ef9fdff8-b58d-47d1-8fbc-b2bdfeae0f26",
   "metadata": {},
   "outputs": [
    {
     "data": {
      "text/plain": [
       "count     16849.000000\n",
       "mean       9536.307804\n",
       "std       12544.434501\n",
       "min           0.000000\n",
       "10%         382.498000\n",
       "20%        1011.544000\n",
       "30%        1742.670000\n",
       "40%        2892.010000\n",
       "50%        4690.120000\n",
       "60%        7263.764000\n",
       "70%       10915.578000\n",
       "80%       15897.612000\n",
       "90%       24057.004000\n",
       "max      142758.660000\n",
       "Name: VlrPrincipal_Atual, dtype: float64"
      ]
     },
     "execution_count": 58,
     "metadata": {},
     "output_type": "execute_result"
    }
   ],
   "source": [
    "df['VlrPrincipal_Atual'].describe(percentiles=[0.1, 0.2, 0.3, 0.4, 0.5, 0.6, 0.7, 0.8, 0.9])"
   ]
  },
  {
   "cell_type": "code",
   "execution_count": 66,
   "id": "a0100e3b-3c1d-4f4a-abe6-7e82d423e279",
   "metadata": {},
   "outputs": [
    {
     "data": {
      "text/html": [
       "<div>\n",
       "<style scoped>\n",
       "    .dataframe tbody tr th:only-of-type {\n",
       "        vertical-align: middle;\n",
       "    }\n",
       "\n",
       "    .dataframe tbody tr th {\n",
       "        vertical-align: top;\n",
       "    }\n",
       "\n",
       "    .dataframe thead th {\n",
       "        text-align: right;\n",
       "    }\n",
       "</style>\n",
       "<table border=\"1\" class=\"dataframe\">\n",
       "  <thead>\n",
       "    <tr style=\"text-align: right;\">\n",
       "      <th></th>\n",
       "      <th>codigocliente</th>\n",
       "      <th>duration</th>\n",
       "      <th>Obito</th>\n",
       "      <th>VlrPrincipal_Inicial</th>\n",
       "      <th>VlrPrincipal_Atual</th>\n",
       "      <th>valor_prejuizo</th>\n",
       "      <th>lucro</th>\n",
       "    </tr>\n",
       "  </thead>\n",
       "  <tbody>\n",
       "    <tr>\n",
       "      <th>17</th>\n",
       "      <td>18</td>\n",
       "      <td>55.0</td>\n",
       "      <td>1</td>\n",
       "      <td>32121.92</td>\n",
       "      <td>19486.66</td>\n",
       "      <td>19486.66</td>\n",
       "      <td>42.635648</td>\n",
       "    </tr>\n",
       "    <tr>\n",
       "      <th>27</th>\n",
       "      <td>28</td>\n",
       "      <td>80.0</td>\n",
       "      <td>1</td>\n",
       "      <td>36308.18</td>\n",
       "      <td>21992.68</td>\n",
       "      <td>21992.68</td>\n",
       "      <td>55.971200</td>\n",
       "    </tr>\n",
       "    <tr>\n",
       "      <th>53</th>\n",
       "      <td>54</td>\n",
       "      <td>176.0</td>\n",
       "      <td>1</td>\n",
       "      <td>19488.54</td>\n",
       "      <td>17462.08</td>\n",
       "      <td>17462.08</td>\n",
       "      <td>56.742240</td>\n",
       "    </tr>\n",
       "    <tr>\n",
       "      <th>56</th>\n",
       "      <td>57</td>\n",
       "      <td>12.0</td>\n",
       "      <td>1</td>\n",
       "      <td>5494.72</td>\n",
       "      <td>4671.95</td>\n",
       "      <td>4671.95</td>\n",
       "      <td>2.156848</td>\n",
       "    </tr>\n",
       "  </tbody>\n",
       "</table>\n",
       "</div>"
      ],
      "text/plain": [
       "    codigocliente  duration  Obito  VlrPrincipal_Inicial  VlrPrincipal_Atual  \\\n",
       "17             18      55.0      1              32121.92            19486.66   \n",
       "27             28      80.0      1              36308.18            21992.68   \n",
       "53             54     176.0      1              19488.54            17462.08   \n",
       "56             57      12.0      1               5494.72             4671.95   \n",
       "\n",
       "    valor_prejuizo      lucro  \n",
       "17        19486.66  42.635648  \n",
       "27        21992.68  55.971200  \n",
       "53        17462.08  56.742240  \n",
       "56         4671.95   2.156848  "
      ]
     },
     "execution_count": 66,
     "metadata": {},
     "output_type": "execute_result"
    }
   ],
   "source": [
    "#Operações com prejuízo\n",
    "##Visualização \n",
    "df.query('Obito == 1')[['codigocliente', 'duration', 'Obito', 'VlrPrincipal_Inicial', 'VlrPrincipal_Atual', 'valor_prejuizo', 'lucro']].head(4)"
   ]
  },
  {
   "cell_type": "code",
   "execution_count": 78,
   "id": "f9b4fe08-7cb5-4798-8177-812e3eb7bbd4",
   "metadata": {},
   "outputs": [
    {
     "data": {
      "text/html": [
       "<div>\n",
       "<style scoped>\n",
       "    .dataframe tbody tr th:only-of-type {\n",
       "        vertical-align: middle;\n",
       "    }\n",
       "\n",
       "    .dataframe tbody tr th {\n",
       "        vertical-align: top;\n",
       "    }\n",
       "\n",
       "    .dataframe thead th {\n",
       "        text-align: right;\n",
       "    }\n",
       "</style>\n",
       "<table border=\"1\" class=\"dataframe\">\n",
       "  <thead>\n",
       "    <tr style=\"text-align: right;\">\n",
       "      <th></th>\n",
       "      <th>AnoMesBase</th>\n",
       "      <th>codigocliente</th>\n",
       "      <th>duration</th>\n",
       "      <th>Obito</th>\n",
       "      <th>VlrPrincipal_Inicial</th>\n",
       "      <th>VlrPrincipal_Atual</th>\n",
       "      <th>valor_prejuizo</th>\n",
       "      <th>lucro</th>\n",
       "    </tr>\n",
       "  </thead>\n",
       "  <tbody>\n",
       "    <tr>\n",
       "      <th>8344</th>\n",
       "      <td>202402</td>\n",
       "      <td>8345</td>\n",
       "      <td>145.0</td>\n",
       "      <td>1</td>\n",
       "      <td>7215.62</td>\n",
       "      <td>0.0</td>\n",
       "      <td>5736.58</td>\n",
       "      <td>9.726944</td>\n",
       "    </tr>\n",
       "    <tr>\n",
       "      <th>8591</th>\n",
       "      <td>202402</td>\n",
       "      <td>8592</td>\n",
       "      <td>41.0</td>\n",
       "      <td>1</td>\n",
       "      <td>16119.95</td>\n",
       "      <td>0.0</td>\n",
       "      <td>15529.07</td>\n",
       "      <td>11.152976</td>\n",
       "    </tr>\n",
       "    <tr>\n",
       "      <th>8914</th>\n",
       "      <td>202402</td>\n",
       "      <td>8915</td>\n",
       "      <td>48.0</td>\n",
       "      <td>1</td>\n",
       "      <td>5668.46</td>\n",
       "      <td>0.0</td>\n",
       "      <td>1947.61</td>\n",
       "      <td>5.171936</td>\n",
       "    </tr>\n",
       "    <tr>\n",
       "      <th>9080</th>\n",
       "      <td>202402</td>\n",
       "      <td>9081</td>\n",
       "      <td>160.0</td>\n",
       "      <td>1</td>\n",
       "      <td>9656.25</td>\n",
       "      <td>0.0</td>\n",
       "      <td>7231.17</td>\n",
       "      <td>72.900720</td>\n",
       "    </tr>\n",
       "    <tr>\n",
       "      <th>9703</th>\n",
       "      <td>202402</td>\n",
       "      <td>9704</td>\n",
       "      <td>46.0</td>\n",
       "      <td>1</td>\n",
       "      <td>5648.70</td>\n",
       "      <td>0.0</td>\n",
       "      <td>4802.36</td>\n",
       "      <td>6.141456</td>\n",
       "    </tr>\n",
       "  </tbody>\n",
       "</table>\n",
       "</div>"
      ],
      "text/plain": [
       "     AnoMesBase  codigocliente  duration  Obito  VlrPrincipal_Inicial  \\\n",
       "8344     202402           8345     145.0      1               7215.62   \n",
       "8591     202402           8592      41.0      1              16119.95   \n",
       "8914     202402           8915      48.0      1               5668.46   \n",
       "9080     202402           9081     160.0      1               9656.25   \n",
       "9703     202402           9704      46.0      1               5648.70   \n",
       "\n",
       "      VlrPrincipal_Atual  valor_prejuizo      lucro  \n",
       "8344                 0.0         5736.58   9.726944  \n",
       "8591                 0.0        15529.07  11.152976  \n",
       "8914                 0.0         1947.61   5.171936  \n",
       "9080                 0.0         7231.17  72.900720  \n",
       "9703                 0.0         4802.36   6.141456  "
      ]
     },
     "execution_count": 78,
     "metadata": {},
     "output_type": "execute_result"
    }
   ],
   "source": [
    "df[(df['Obito'] == 1) & (df['AnoMesBase'] == '202402') & (df['VlrPrincipal_Atual'] != df['valor_prejuizo'])][['AnoMesBase','codigocliente', 'duration', 'Obito', 'VlrPrincipal_Inicial', 'VlrPrincipal_Atual', 'valor_prejuizo', 'lucro']].head()"
   ]
  },
  {
   "cell_type": "markdown",
   "id": "64a1001a-2037-4adf-859c-f86e088bc2c9",
   "metadata": {},
   "source": [
    "# 6 - Análise bivariada:  Relação entre óbito e as demais variáveis\n"
   ]
  },
  {
   "cell_type": "markdown",
   "id": "7dfa7002-1038-4bea-a145-2faace2c35a9",
   "metadata": {},
   "source": [
    "## Variáveis qualitativas"
   ]
  },
  {
   "cell_type": "code",
   "execution_count": 79,
   "id": "ba3810d1-2da3-4306-ae19-0500a654115e",
   "metadata": {},
   "outputs": [
    {
     "data": {
      "text/plain": [
       "Index(['Regiao', 'ClienteEstado', 'EstadoCivil', 'sexo', 'publico_alvo',\n",
       "       'idade_faixas', 'operacao_faixas', 'emprestimo_faixas'],\n",
       "      dtype='object')"
      ]
     },
     "execution_count": 79,
     "metadata": {},
     "output_type": "execute_result"
    }
   ],
   "source": [
    "colunas_qualitativas = df.select_dtypes(include= ['object', 'category']).columns\n",
    "#Visualização\n",
    "colunas_qualitativas"
   ]
  },
  {
   "cell_type": "markdown",
   "id": "14942959-28c3-42cc-a3b3-2e03cdc7713a",
   "metadata": {},
   "source": [
    "### Comparar a taxa de óbito para todas as classes das variáveis categóricas"
   ]
  },
  {
   "cell_type": "code",
   "execution_count": 81,
   "id": "0ad245e5-f216-47b9-a787-3e60af73ccd7",
   "metadata": {},
   "outputs": [
    {
     "name": "stdout",
     "output_type": "stream",
     "text": [
      "Análise bivariada Regiao:\n",
      "                 Média\n",
      "Regiao                \n",
      "Centro-Oeste  0.080882\n",
      "Nordeste      0.080660\n",
      "Norte         0.041237\n",
      "Sudeste       0.061603\n",
      "Sul           0.052415\n",
      "\n",
      "\n",
      "Análise bivariada ClienteEstado:\n",
      "                  Média\n",
      "ClienteEstado          \n",
      "AL             0.153846\n",
      "AM             0.000000\n",
      "BA             0.089239\n",
      "CE             0.057592\n",
      "DF             0.067568\n",
      "ES             0.080808\n",
      "GO             0.089888\n",
      "MA             0.000000\n",
      "MG             0.067155\n",
      "MS             0.083333\n",
      "MT             0.000000\n",
      "PA             0.045455\n",
      "PB             0.100000\n",
      "PE             0.081395\n",
      "PI             0.045455\n",
      "PR             0.046706\n",
      "RJ             0.067835\n",
      "RN             0.100000\n",
      "RO             0.000000\n",
      "RR             0.000000\n",
      "RS             0.058533\n",
      "SC             0.056393\n",
      "SE             0.079545\n",
      "SP             0.056192\n",
      "TO             0.041667\n",
      "\n",
      "\n",
      "Análise bivariada EstadoCivil:\n",
      "                Média\n",
      "EstadoCivil          \n",
      "CASADO       0.045734\n",
      "DESQUITADO   0.065574\n",
      "DIVORCIADO   0.024793\n",
      "OUTROS       0.064434\n",
      "SOLTEIRO     0.057517\n",
      "VIUVO        0.050595\n",
      "\n",
      "\n",
      "Análise bivariada sexo:\n",
      "         Média\n",
      "sexo          \n",
      "F     0.054149\n",
      "M     0.063422\n",
      "\n",
      "\n",
      "Análise bivariada publico_alvo:\n",
      "                                                       Média\n",
      "publico_alvo                                                \n",
      "Aposentadoria_idade                                 0.052649\n",
      "Aposentadoria_idade-Aposentadoria_tempo_contrib...  0.000000\n",
      "Aposentadoria_idade-Pensao_morte                    0.059959\n",
      "Aposentadoria_invalidez                             0.084284\n",
      "Aposentadoria_invalidez-Aposentadoria_tempo_con...  0.000000\n",
      "Aposentadoria_invalidez-Pensao_morte                0.085308\n",
      "Aposentadoria_tempo_contribuicao                    0.057299\n",
      "Aposentadoria_tempo_contribuicao-Pensao_morte       0.061275\n",
      "Pensao_morte                                        0.055793\n",
      "outro_tipo_cliente                                  0.103960\n",
      "\n",
      "\n",
      "Análise bivariada idade_faixas:\n",
      "                 Média\n",
      "idade_faixas          \n",
      "F74           0.048787\n",
      "F75           0.051203\n",
      "F76           0.057343\n",
      "F77           0.059984\n",
      "F78-79        0.065383\n",
      "F80-MAX       0.091675\n",
      "\n",
      "\n",
      "Análise bivariada operacao_faixas:\n",
      "                    Média\n",
      "operacao_faixas          \n",
      "F1               0.058137\n",
      "F2               0.051407\n",
      "F3               0.052929\n",
      "F4               0.063357\n",
      "F5               0.062035\n",
      "F6               0.059109\n",
      "F7-MAX           0.064152\n",
      "\n",
      "\n",
      "Análise bivariada emprestimo_faixas:\n",
      "                      Média\n",
      "emprestimo_faixas          \n",
      "10000-20000        0.060255\n",
      "ATE10000           0.057385\n",
      "M20000             0.058776\n",
      "\n",
      "\n"
     ]
    }
   ],
   "source": [
    "#Iterando sobre as colunas categóricas\n",
    "for coluna in colunas_qualitativas:\n",
    "    print(f\"Análise bivariada {coluna}:\")\n",
    "    summary = df.groupby([coluna])['Obito'].agg(['mean'])\n",
    "    summary.columns = ['Média']\n",
    "    print(summary)\n",
    "    print('\\n')"
   ]
  },
  {
   "cell_type": "markdown",
   "id": "cc332fcd-0da8-4bae-a979-828416cd21a0",
   "metadata": {},
   "source": [
    "## Variáveis quantitativas"
   ]
  },
  {
   "cell_type": "code",
   "execution_count": 82,
   "id": "77cc1b11-c068-48bb-8b94-abc1483879f7",
   "metadata": {},
   "outputs": [],
   "source": [
    "#Lista de colunas quantitativas\n",
    "colunas_quantitativas = df.select_dtypes(include= ['int', 'float']).columns"
   ]
  },
  {
   "cell_type": "code",
   "execution_count": 83,
   "id": "17ffc140-6b3b-4986-bbd5-92cc4c7cabf3",
   "metadata": {},
   "outputs": [],
   "source": [
    "#Lista de colunas que você quer remover\n",
    "colunas_para_remover = ['codigocliente', 'Aposentadoria_idade', 'Aposentadoria_invalidez', \n",
    "                        'Aposentadoria_tempo_contribuicao', 'Pensao_morte', 'Auxilio', \n",
    "                        'Beneficios_assistenciais', 'Diversos_e_uniao', 'Obito']"
   ]
  },
  {
   "cell_type": "markdown",
   "id": "9da6025a-4521-4fff-a2a8-51c0161def7a",
   "metadata": {},
   "source": [
    "### Comparar a variável óbito afeta a distribuição entre as variáveis quantiativas"
   ]
  },
  {
   "cell_type": "code",
   "execution_count": 84,
   "id": "0c2520a3-feb6-4fed-8471-0fecde5f020e",
   "metadata": {},
   "outputs": [
    {
     "name": "stdout",
     "output_type": "stream",
     "text": [
      "Index(['IdadeAnos', 'VlrPrincipal_Atual', 'VlrPrincipal_Inicial',\n",
      "       'VlrReceitaJuros', 'VlrReceitaJuros_74', 'distinct_operacoes',\n",
      "       'duration', 'lucro', 'valor_prejuizo'],\n",
      "      dtype='object')\n"
     ]
    }
   ],
   "source": [
    "#Colunas relevantes\n",
    "colunas_quantitativas = colunas_quantitativas.difference(colunas_para_remover)\n",
    "print(colunas_quantitativas)"
   ]
  },
  {
   "cell_type": "code",
   "execution_count": 87,
   "id": "b35763db-697f-4fd6-b044-28ec1dba64da",
   "metadata": {},
   "outputs": [
    {
     "name": "stdout",
     "output_type": "stream",
     "text": [
      "Análise bivariada IdadeAnos:\n",
      "           Média  Mediana  Desvio Padrão  Percentil 25  Percentil 75\n",
      "Obito                                                               \n",
      "0      76.261330     76.0       1.831060          75.0          78.0\n",
      "1      76.575203     76.0       1.915943          75.0          78.0\n",
      "\n",
      "\n",
      "Análise bivariada VlrPrincipal_Atual:\n",
      "             Média  Mediana  Desvio Padrão  Percentil 25  Percentil 75\n",
      "Obito                                                                 \n",
      "0      9770.065606  4928.04   12615.715622       1471.88    13447.1600\n",
      "1      5767.438364   681.59   10652.650835          0.00     6779.2725\n",
      "\n",
      "\n",
      "Análise bivariada VlrPrincipal_Inicial:\n",
      "              Média   Mediana  Desvio Padrão  Percentil 25  Percentil 75\n",
      "Obito                                                                   \n",
      "0      13683.064621  8899.930   15356.994634     2800.5100     18651.420\n",
      "1      13932.728984  9501.205   14988.507484     3061.5575     18317.915\n",
      "\n",
      "\n",
      "Análise bivariada VlrReceitaJuros:\n",
      "              Média  Mediana  Desvio Padrão  Percentil 25  Percentil 75\n",
      "Obito                                                                  \n",
      "0      15252.782232  8950.81   21913.747311      2421.750    19292.1500\n",
      "1      13635.984766  8493.97   17028.380574      2425.005    17917.6125\n",
      "\n",
      "\n",
      "Análise bivariada VlrReceitaJuros_74:\n",
      "             Média   Mediana  Desvio Padrão  Percentil 25  Percentil 75\n",
      "Obito                                                                  \n",
      "0      6027.530054  2936.150    8590.737883       753.940     8052.1200\n",
      "1      6331.799309  3055.365    8721.966588       879.315     8177.1475\n",
      "\n",
      "\n",
      "Análise bivariada distinct_operacoes:\n",
      "          Média  Mediana  Desvio Padrão  Percentil 25  Percentil 75\n",
      "Obito                                                              \n",
      "0      3.987709      3.0       3.430057           1.0           6.0\n",
      "1      4.236789      3.0       3.690717           1.0           6.0\n",
      "\n",
      "\n",
      "Análise bivariada duration:\n",
      "           Média  Mediana  Desvio Padrão  Percentil 25  Percentil 75\n",
      "Obito                                                               \n",
      "0      66.880681     57.0      47.935445          37.0         82.00\n",
      "1      63.970348     52.0      43.348108          41.0         77.75\n",
      "\n",
      "\n",
      "Análise bivariada lucro:\n",
      "           Média    Mediana  Desvio Padrão  Percentil 25  Percentil 75\n",
      "Obito                                                                 \n",
      "0      24.404452  14.321296      35.061996      3.874800      30.86744\n",
      "1      21.817576  13.590352      27.245409      3.880008      28.66818\n",
      "\n",
      "\n",
      "Análise bivariada valor_prejuizo:\n",
      "             Média   Mediana  Desvio Padrão  Percentil 25  Percentil 75\n",
      "Obito                                                                  \n",
      "0         0.000000     0.000       0.000000        0.0000        0.0000\n",
      "1      9830.086951  5376.475   12044.237451     1515.1625    13599.9975\n",
      "\n",
      "\n"
     ]
    }
   ],
   "source": [
    "#Iterando sobre as colunas categóricas\n",
    "for coluna in colunas_quantitativas:\n",
    "    print(f\"Análise bivariada {coluna}:\")\n",
    "    summary = df.groupby(['Obito'])[coluna].agg(['mean', 'median', 'std', lambda x: x.quantile(0.25), lambda x: x.quantile(0.75)])\n",
    "    summary.columns = ['Média', 'Mediana', 'Desvio Padrão', 'Percentil 25', 'Percentil 75']\n",
    "    print(summary)\n",
    "    print('\\n')"
   ]
  },
  {
   "cell_type": "code",
   "execution_count": 85,
   "id": "827d464b-c3c7-4194-9a29-423ef3de5260",
   "metadata": {},
   "outputs": [],
   "source": [
    "tabela_numerica = df[['Obito', 'IdadeAnos', 'VlrPrincipal_Atual', 'VlrPrincipal_Inicial',\n",
    "       'VlrReceitaJuros', 'VlrReceitaJuros_74', 'distinct_operacoes', 'lucro',\n",
    "       'duration', 'valor_prejuizo']]"
   ]
  },
  {
   "cell_type": "code",
   "execution_count": 88,
   "id": "5ecb8814-f153-477a-bf13-1bfddee1c9ad",
   "metadata": {},
   "outputs": [],
   "source": [
    "#Criação de um dicionário\n",
    "dicionario = {}\n",
    "#Aplicação de um laço para o cálculo do KS2 da lista de variáveis em colunas_var_quant\n",
    "for coluna in colunas_quantitativas:\n",
    "   resultado = calcular_ks_2samp(tabela_numerica,'Obito', coluna)\n",
    "   dicionario[coluna] = resultado"
   ]
  },
  {
   "cell_type": "code",
   "execution_count": 89,
   "id": "a2d8ec2f-660b-4f3b-a6d5-b4ea207d6c03",
   "metadata": {},
   "outputs": [
    {
     "data": {
      "text/plain": [
       "{'IdadeAnos': np.float64(0.06609867556286653),\n",
       " 'VlrPrincipal_Atual': np.float64(0.4378267854534833),\n",
       " 'VlrPrincipal_Inicial': np.float64(0.030475441927441616),\n",
       " 'VlrReceitaJuros': np.float64(0.03565705559356258),\n",
       " 'VlrReceitaJuros_74': np.float64(0.02913844967318252),\n",
       " 'distinct_operacoes': np.float64(0.03461786311843573),\n",
       " 'duration': np.float64(nan),\n",
       " 'lucro': np.float64(0.03565705559356258),\n",
       " 'valor_prejuizo': np.float64(1.0)}"
      ]
     },
     "execution_count": 89,
     "metadata": {},
     "output_type": "execute_result"
    }
   ],
   "source": [
    "#Dicionário - inclui a chave (variável) e o valor (KS2)\n",
    "dicionario #Valor do principal"
   ]
  },
  {
   "cell_type": "code",
   "execution_count": 90,
   "id": "5aef533c-95db-4452-866d-3988bdbacb70",
   "metadata": {},
   "outputs": [
    {
     "data": {
      "text/plain": [
       "np.float64(0.11532169757997723)"
      ]
     },
     "execution_count": 90,
     "metadata": {},
     "output_type": "execute_result"
    }
   ],
   "source": [
    "df_duration = df.dropna(subset = ['duration'])\n",
    "calcular_ks_2samp(df_duration, 'Obito', 'duration') #11%"
   ]
  },
  {
   "cell_type": "markdown",
   "id": "dc99d7b5-5e8d-42cc-96fa-6211ab9cfbcd",
   "metadata": {},
   "source": [
    "# 7 - Grupo de risco"
   ]
  },
  {
   "cell_type": "code",
   "execution_count": 101,
   "id": "e2712b4d-e7da-4509-9262-91ce9b772803",
   "metadata": {},
   "outputs": [
    {
     "data": {
      "text/plain": [
       "3545"
      ]
     },
     "execution_count": 101,
     "metadata": {},
     "output_type": "execute_result"
    }
   ],
   "source": [
    "g_risco = df.loc[(df.Regiao == 'Centro-Oeste') | (df.Regiao == 'Nordeste') | \n",
    "(df.ClienteEstado == 'ES') | (df.EstadoCivil == 'DESQUITADO') | (df.idade_faixas == 'F80-MAX')| \n",
    "(df.publico_alvo == 'Aposentadoria_invalidez') | (df.publico_alvo == ' Aposentadoria_invalidez-Pensao_morte') | \n",
    "(df.publico_alvo == 'outro_tipo_cliente')]\n",
    "#Volumetria\n",
    "g_risco.shape[0]"
   ]
  },
  {
   "cell_type": "code",
   "execution_count": 107,
   "id": "9af5370c-5cd2-4977-85d8-7b2368b9626f",
   "metadata": {},
   "outputs": [
    {
     "data": {
      "text/html": [
       "<div>\n",
       "<style scoped>\n",
       "    .dataframe tbody tr th:only-of-type {\n",
       "        vertical-align: middle;\n",
       "    }\n",
       "\n",
       "    .dataframe tbody tr th {\n",
       "        vertical-align: top;\n",
       "    }\n",
       "\n",
       "    .dataframe thead th {\n",
       "        text-align: right;\n",
       "    }\n",
       "</style>\n",
       "<table border=\"1\" class=\"dataframe\">\n",
       "  <thead>\n",
       "    <tr style=\"text-align: right;\">\n",
       "      <th></th>\n",
       "      <th>codigocliente</th>\n",
       "      <th>AnoMesBase</th>\n",
       "      <th>Aposentadoria_idade</th>\n",
       "      <th>Aposentadoria_invalidez</th>\n",
       "      <th>Aposentadoria_tempo_contribuicao</th>\n",
       "      <th>Pensao_morte</th>\n",
       "      <th>Auxilio</th>\n",
       "      <th>Beneficios_assistenciais</th>\n",
       "      <th>Diversos_e_uniao</th>\n",
       "      <th>Obito</th>\n",
       "      <th>IdadeAnos</th>\n",
       "      <th>DataNascimento</th>\n",
       "      <th>Regiao</th>\n",
       "      <th>ClienteEstado</th>\n",
       "      <th>EstadoCivil</th>\n",
       "      <th>distinct_operacoes</th>\n",
       "      <th>VlrPrincipal_Inicial</th>\n",
       "      <th>VlrPrincipal_Atual</th>\n",
       "      <th>valor_prejuizo</th>\n",
       "      <th>sexo</th>\n",
       "      <th>duration</th>\n",
       "      <th>VlrReceitaJuros</th>\n",
       "      <th>VlrReceitaJuros_74</th>\n",
       "      <th>lucro</th>\n",
       "      <th>publico_alvo</th>\n",
       "      <th>idade_faixas</th>\n",
       "      <th>operacao_faixas</th>\n",
       "      <th>emprestimo_faixas</th>\n",
       "    </tr>\n",
       "  </thead>\n",
       "  <tbody>\n",
       "    <tr>\n",
       "      <th>4</th>\n",
       "      <td>5</td>\n",
       "      <td>202412</td>\n",
       "      <td>0</td>\n",
       "      <td>0</td>\n",
       "      <td>1</td>\n",
       "      <td>0</td>\n",
       "      <td>0</td>\n",
       "      <td>0</td>\n",
       "      <td>0</td>\n",
       "      <td>0</td>\n",
       "      <td>80</td>\n",
       "      <td>1944-10-07</td>\n",
       "      <td>Nordeste</td>\n",
       "      <td>BA</td>\n",
       "      <td>OUTROS</td>\n",
       "      <td>3</td>\n",
       "      <td>13777.43</td>\n",
       "      <td>2885.31</td>\n",
       "      <td>0.0</td>\n",
       "      <td>M</td>\n",
       "      <td>149.0</td>\n",
       "      <td>27947.43</td>\n",
       "      <td>10909.10</td>\n",
       "      <td>44.715888</td>\n",
       "      <td>Aposentadoria_tempo_contribuicao</td>\n",
       "      <td>F80-MAX</td>\n",
       "      <td>F3</td>\n",
       "      <td>10000-20000</td>\n",
       "    </tr>\n",
       "    <tr>\n",
       "      <th>8</th>\n",
       "      <td>9</td>\n",
       "      <td>202412</td>\n",
       "      <td>1</td>\n",
       "      <td>0</td>\n",
       "      <td>0</td>\n",
       "      <td>0</td>\n",
       "      <td>0</td>\n",
       "      <td>0</td>\n",
       "      <td>0</td>\n",
       "      <td>0</td>\n",
       "      <td>80</td>\n",
       "      <td>1944-10-11</td>\n",
       "      <td>Sul</td>\n",
       "      <td>PR</td>\n",
       "      <td>CASADO</td>\n",
       "      <td>8</td>\n",
       "      <td>13942.51</td>\n",
       "      <td>3208.81</td>\n",
       "      <td>0.0</td>\n",
       "      <td>M</td>\n",
       "      <td>62.0</td>\n",
       "      <td>10710.90</td>\n",
       "      <td>10710.90</td>\n",
       "      <td>17.137440</td>\n",
       "      <td>Aposentadoria_idade</td>\n",
       "      <td>F80-MAX</td>\n",
       "      <td>F7-MAX</td>\n",
       "      <td>10000-20000</td>\n",
       "    </tr>\n",
       "    <tr>\n",
       "      <th>11</th>\n",
       "      <td>12</td>\n",
       "      <td>202412</td>\n",
       "      <td>1</td>\n",
       "      <td>0</td>\n",
       "      <td>0</td>\n",
       "      <td>0</td>\n",
       "      <td>0</td>\n",
       "      <td>0</td>\n",
       "      <td>0</td>\n",
       "      <td>0</td>\n",
       "      <td>80</td>\n",
       "      <td>1944-03-08</td>\n",
       "      <td>Nordeste</td>\n",
       "      <td>BA</td>\n",
       "      <td>SOLTEIRO</td>\n",
       "      <td>1</td>\n",
       "      <td>798.80</td>\n",
       "      <td>45.24</td>\n",
       "      <td>0.0</td>\n",
       "      <td>M</td>\n",
       "      <td>71.0</td>\n",
       "      <td>8252.69</td>\n",
       "      <td>8252.69</td>\n",
       "      <td>13.204304</td>\n",
       "      <td>Aposentadoria_idade</td>\n",
       "      <td>F80-MAX</td>\n",
       "      <td>F1</td>\n",
       "      <td>ATE10000</td>\n",
       "    </tr>\n",
       "  </tbody>\n",
       "</table>\n",
       "</div>"
      ],
      "text/plain": [
       "    codigocliente AnoMesBase  Aposentadoria_idade  Aposentadoria_invalidez  \\\n",
       "4               5     202412                    0                        0   \n",
       "8               9     202412                    1                        0   \n",
       "11             12     202412                    1                        0   \n",
       "\n",
       "    Aposentadoria_tempo_contribuicao  Pensao_morte  Auxilio  \\\n",
       "4                                  1             0        0   \n",
       "8                                  0             0        0   \n",
       "11                                 0             0        0   \n",
       "\n",
       "    Beneficios_assistenciais  Diversos_e_uniao  Obito  IdadeAnos  \\\n",
       "4                          0                 0      0         80   \n",
       "8                          0                 0      0         80   \n",
       "11                         0                 0      0         80   \n",
       "\n",
       "   DataNascimento    Regiao ClienteEstado EstadoCivil  distinct_operacoes  \\\n",
       "4      1944-10-07  Nordeste            BA      OUTROS                   3   \n",
       "8      1944-10-11       Sul            PR      CASADO                   8   \n",
       "11     1944-03-08  Nordeste            BA    SOLTEIRO                   1   \n",
       "\n",
       "    VlrPrincipal_Inicial  VlrPrincipal_Atual  valor_prejuizo sexo  duration  \\\n",
       "4               13777.43             2885.31             0.0    M     149.0   \n",
       "8               13942.51             3208.81             0.0    M      62.0   \n",
       "11                798.80               45.24             0.0    M      71.0   \n",
       "\n",
       "    VlrReceitaJuros  VlrReceitaJuros_74      lucro  \\\n",
       "4          27947.43            10909.10  44.715888   \n",
       "8          10710.90            10710.90  17.137440   \n",
       "11          8252.69             8252.69  13.204304   \n",
       "\n",
       "                        publico_alvo idade_faixas operacao_faixas  \\\n",
       "4   Aposentadoria_tempo_contribuicao      F80-MAX              F3   \n",
       "8                Aposentadoria_idade      F80-MAX          F7-MAX   \n",
       "11               Aposentadoria_idade      F80-MAX              F1   \n",
       "\n",
       "   emprestimo_faixas  \n",
       "4        10000-20000  \n",
       "8        10000-20000  \n",
       "11          ATE10000  "
      ]
     },
     "execution_count": 107,
     "metadata": {},
     "output_type": "execute_result"
    }
   ],
   "source": [
    "#Visualização\n",
    "g_risco.head(3)"
   ]
  },
  {
   "cell_type": "code",
   "execution_count": 106,
   "id": "9c233e83-9f41-457a-b27d-220e9f0c1398",
   "metadata": {},
   "outputs": [
    {
     "data": {
      "text/plain": [
       "21.0"
      ]
     },
     "execution_count": 106,
     "metadata": {},
     "output_type": "execute_result"
    }
   ],
   "source": [
    "#Representatividade\n",
    "round(100 * g_risco.shape[0]/df.shape[0],0)"
   ]
  },
  {
   "cell_type": "code",
   "execution_count": 103,
   "id": "4fbecf66-8842-4ea9-a41d-20e29a3b395a",
   "metadata": {},
   "outputs": [
    {
     "data": {
      "text/plain": [
       "Obito\n",
       "0    91.65\n",
       "1     8.35\n",
       "Name: proportion, dtype: float64"
      ]
     },
     "execution_count": 103,
     "metadata": {},
     "output_type": "execute_result"
    }
   ],
   "source": [
    "#Taxa de óbito\n",
    "round(100 * g_risco['Obito'].value_counts(True),2) #8.35"
   ]
  },
  {
   "cell_type": "code",
   "execution_count": 108,
   "id": "2661108e-5ce3-46ff-a0ba-3e3b5f04ea47",
   "metadata": {},
   "outputs": [
    {
     "data": {
      "text/plain": [
       "np.float64(10280.853963328631)"
      ]
     },
     "execution_count": 108,
     "metadata": {},
     "output_type": "execute_result"
    }
   ],
   "source": [
    "g_risco['VlrPrincipal_Inicial'].mean()"
   ]
  },
  {
   "cell_type": "code",
   "execution_count": 111,
   "id": "d3ea8c4a-98bc-4779-ae4f-ce7b29e88bef",
   "metadata": {},
   "outputs": [
    {
     "data": {
      "text/plain": [
       "np.float64(2051837.0)"
      ]
     },
     "execution_count": 111,
     "metadata": {},
     "output_type": "execute_result"
    }
   ],
   "source": [
    "round(g_risco['valor_prejuizo'].sum(),0)"
   ]
  },
  {
   "cell_type": "code",
   "execution_count": 112,
   "id": "0843c9c2-9b5e-4fdf-be2f-3ef190726f1b",
   "metadata": {},
   "outputs": [
    {
     "data": {
      "text/plain": [
       "np.float64(9672806.0)"
      ]
     },
     "execution_count": 112,
     "metadata": {},
     "output_type": "execute_result"
    }
   ],
   "source": [
    "round(df['valor_prejuizo'].sum(),0)"
   ]
  },
  {
   "cell_type": "code",
   "execution_count": 113,
   "id": "30bda43d-ba3d-498d-9747-d06d8c25a4c6",
   "metadata": {},
   "outputs": [
    {
     "data": {
      "text/plain": [
       "np.float64(0.21212427913885587)"
      ]
     },
     "execution_count": 113,
     "metadata": {},
     "output_type": "execute_result"
    }
   ],
   "source": [
    "round(g_risco['valor_prejuizo'].sum(),0)/round(df['valor_prejuizo'].sum(),0)"
   ]
  },
  {
   "cell_type": "code",
   "execution_count": 110,
   "id": "a3de250d-fd62-4f53-bf3b-7ab8a6105f5f",
   "metadata": {},
   "outputs": [
    {
     "data": {
      "text/plain": [
       "np.float64(578.7974160789845)"
      ]
     },
     "execution_count": 110,
     "metadata": {},
     "output_type": "execute_result"
    }
   ],
   "source": [
    "g_risco['valor_prejuizo'].mean()"
   ]
  },
  {
   "cell_type": "code",
   "execution_count": null,
   "id": "a8908a47-ecd6-4f0e-a3e7-c0044e380fec",
   "metadata": {},
   "outputs": [],
   "source": []
  }
 ],
 "metadata": {
  "kernelspec": {
   "display_name": "Python 3 (ipykernel)",
   "language": "python",
   "name": "python3"
  },
  "language_info": {
   "codemirror_mode": {
    "name": "ipython",
    "version": 3
   },
   "file_extension": ".py",
   "mimetype": "text/x-python",
   "name": "python",
   "nbconvert_exporter": "python",
   "pygments_lexer": "ipython3",
   "version": "3.10.16"
  }
 },
 "nbformat": 4,
 "nbformat_minor": 5
}
